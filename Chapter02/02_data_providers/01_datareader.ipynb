{
 "cells": [
  {
   "cell_type": "markdown",
   "source": [
    "# Remote data access using pandas"
   ],
   "metadata": {}
  },
  {
   "cell_type": "markdown",
   "source": [
    "The pandas library enables access to data displayed on websites using the `read_html()` function and access to the API endpoints of various data providers through the related `pandas-datareader` library."
   ],
   "metadata": {}
  },
  {
   "cell_type": "code",
   "execution_count": 2,
   "source": [
    "import os\r\n",
    "import pandas_datareader.data as web\r\n",
    "from datetime import datetime\r\n",
    "import pandas as pd"
   ],
   "outputs": [],
   "metadata": {
    "ExecuteTime": {
     "end_time": "2018-12-25T19:14:54.455404Z",
     "start_time": "2018-12-25T19:14:54.447513Z"
    }
   }
  },
  {
   "cell_type": "markdown",
   "source": [
    "## Download html table with SP500 constituents"
   ],
   "metadata": {}
  },
  {
   "cell_type": "markdown",
   "source": [
    "The download of the content of one or more html tables works as follows, for instance for the constituents of the S&P500 index from Wikipedia"
   ],
   "metadata": {}
  },
  {
   "cell_type": "code",
   "execution_count": 3,
   "source": [
    "sp_url = 'https://en.wikipedia.org/wiki/List_of_S%26P_500_companies'\r\n",
    "sp500_constituents = pd.read_html(sp_url, header=0)[0]"
   ],
   "outputs": [],
   "metadata": {
    "ExecuteTime": {
     "end_time": "2018-12-25T19:14:55.680031Z",
     "start_time": "2018-12-25T19:14:54.460128Z"
    }
   }
  },
  {
   "cell_type": "code",
   "execution_count": 4,
   "source": [
    "sp500_constituents.info()"
   ],
   "outputs": [
    {
     "output_type": "stream",
     "name": "stdout",
     "text": [
      "<class 'pandas.core.frame.DataFrame'>\n",
      "RangeIndex: 505 entries, 0 to 504\n",
      "Data columns (total 6 columns):\n",
      " #   Column                 Non-Null Count  Dtype \n",
      "---  ------                 --------------  ----- \n",
      " 0   Symbol                 505 non-null    object\n",
      " 1   Security               505 non-null    object\n",
      " 2   SEC filings            505 non-null    object\n",
      " 3   GICS Sector            505 non-null    object\n",
      " 4   GICS Sub-Industry      505 non-null    object\n",
      " 5   Headquarters Location  505 non-null    object\n",
      "dtypes: object(6)\n",
      "memory usage: 23.8+ KB\n"
     ]
    }
   ],
   "metadata": {
    "ExecuteTime": {
     "end_time": "2018-12-25T19:14:55.685673Z",
     "start_time": "2018-12-25T19:14:55.681237Z"
    },
    "scrolled": true
   }
  },
  {
   "cell_type": "code",
   "execution_count": 4,
   "source": [
    "sp500_constituents.head()"
   ],
   "outputs": [
    {
     "output_type": "execute_result",
     "data": {
      "text/plain": [
       "              Security Symbol SEC filings             GICS Sector  \\\n",
       "0           3M Company    MMM     reports             Industrials   \n",
       "1  Abbott Laboratories    ABT     reports             Health Care   \n",
       "2          AbbVie Inc.   ABBV     reports             Health Care   \n",
       "3          ABIOMED Inc   ABMD     reports             Health Care   \n",
       "4        Accenture plc    ACN     reports  Information Technology   \n",
       "\n",
       "                GICS Sub Industry    Headquarters Location Date first added  \\\n",
       "0        Industrial Conglomerates      St. Paul, Minnesota              NaN   \n",
       "1           Health Care Equipment  North Chicago, Illinois       1964-03-31   \n",
       "2                 Pharmaceuticals  North Chicago, Illinois       2012-12-31   \n",
       "3           Health Care Equipment   Danvers, Massachusetts       2018-05-31   \n",
       "4  IT Consulting & Other Services          Dublin, Ireland       2011-07-06   \n",
       "\n",
       "       CIK      Founded  \n",
       "0    66740         1902  \n",
       "1     1800         1888  \n",
       "2  1551152  2013 (1888)  \n",
       "3   815094         1981  \n",
       "4  1467373         1989  "
      ],
      "text/html": [
       "<div>\n",
       "<style scoped>\n",
       "    .dataframe tbody tr th:only-of-type {\n",
       "        vertical-align: middle;\n",
       "    }\n",
       "\n",
       "    .dataframe tbody tr th {\n",
       "        vertical-align: top;\n",
       "    }\n",
       "\n",
       "    .dataframe thead th {\n",
       "        text-align: right;\n",
       "    }\n",
       "</style>\n",
       "<table border=\"1\" class=\"dataframe\">\n",
       "  <thead>\n",
       "    <tr style=\"text-align: right;\">\n",
       "      <th></th>\n",
       "      <th>Security</th>\n",
       "      <th>Symbol</th>\n",
       "      <th>SEC filings</th>\n",
       "      <th>GICS Sector</th>\n",
       "      <th>GICS Sub Industry</th>\n",
       "      <th>Headquarters Location</th>\n",
       "      <th>Date first added</th>\n",
       "      <th>CIK</th>\n",
       "      <th>Founded</th>\n",
       "    </tr>\n",
       "  </thead>\n",
       "  <tbody>\n",
       "    <tr>\n",
       "      <th>0</th>\n",
       "      <td>3M Company</td>\n",
       "      <td>MMM</td>\n",
       "      <td>reports</td>\n",
       "      <td>Industrials</td>\n",
       "      <td>Industrial Conglomerates</td>\n",
       "      <td>St. Paul, Minnesota</td>\n",
       "      <td>NaN</td>\n",
       "      <td>66740</td>\n",
       "      <td>1902</td>\n",
       "    </tr>\n",
       "    <tr>\n",
       "      <th>1</th>\n",
       "      <td>Abbott Laboratories</td>\n",
       "      <td>ABT</td>\n",
       "      <td>reports</td>\n",
       "      <td>Health Care</td>\n",
       "      <td>Health Care Equipment</td>\n",
       "      <td>North Chicago, Illinois</td>\n",
       "      <td>1964-03-31</td>\n",
       "      <td>1800</td>\n",
       "      <td>1888</td>\n",
       "    </tr>\n",
       "    <tr>\n",
       "      <th>2</th>\n",
       "      <td>AbbVie Inc.</td>\n",
       "      <td>ABBV</td>\n",
       "      <td>reports</td>\n",
       "      <td>Health Care</td>\n",
       "      <td>Pharmaceuticals</td>\n",
       "      <td>North Chicago, Illinois</td>\n",
       "      <td>2012-12-31</td>\n",
       "      <td>1551152</td>\n",
       "      <td>2013 (1888)</td>\n",
       "    </tr>\n",
       "    <tr>\n",
       "      <th>3</th>\n",
       "      <td>ABIOMED Inc</td>\n",
       "      <td>ABMD</td>\n",
       "      <td>reports</td>\n",
       "      <td>Health Care</td>\n",
       "      <td>Health Care Equipment</td>\n",
       "      <td>Danvers, Massachusetts</td>\n",
       "      <td>2018-05-31</td>\n",
       "      <td>815094</td>\n",
       "      <td>1981</td>\n",
       "    </tr>\n",
       "    <tr>\n",
       "      <th>4</th>\n",
       "      <td>Accenture plc</td>\n",
       "      <td>ACN</td>\n",
       "      <td>reports</td>\n",
       "      <td>Information Technology</td>\n",
       "      <td>IT Consulting &amp; Other Services</td>\n",
       "      <td>Dublin, Ireland</td>\n",
       "      <td>2011-07-06</td>\n",
       "      <td>1467373</td>\n",
       "      <td>1989</td>\n",
       "    </tr>\n",
       "  </tbody>\n",
       "</table>\n",
       "</div>"
      ]
     },
     "metadata": {},
     "execution_count": 4
    }
   ],
   "metadata": {
    "ExecuteTime": {
     "end_time": "2018-12-25T19:14:55.702503Z",
     "start_time": "2018-12-25T19:14:55.686865Z"
    }
   }
  },
  {
   "cell_type": "markdown",
   "source": [
    "## pandas-datareader for Market Data"
   ],
   "metadata": {}
  },
  {
   "cell_type": "markdown",
   "source": [
    "`pandas` used to facilitate access to data providers' APIs directly, but this functionality has moved to the related pandas-datareader library. The stability of the APIs varies with provider policies, and as of June 2o18 at version 0.7, the following sources are available"
   ],
   "metadata": {}
  },
  {
   "cell_type": "markdown",
   "source": [
    "See [documentation](https://pandas-datareader.readthedocs.io/en/latest/); functionality frequently changes as underlying provider APIs evolve."
   ],
   "metadata": {}
  },
  {
   "cell_type": "markdown",
   "source": [
    "### Yahoo Finance"
   ],
   "metadata": {}
  },
  {
   "cell_type": "code",
   "execution_count": 5,
   "source": [
    "start = '2014'\r\n",
    "end = datetime(2017, 5, 24)\r\n",
    "\r\n",
    "yahoo= web.DataReader('FB', 'yahoo', start=start, end=end)\r\n",
    "yahoo.info()"
   ],
   "outputs": [
    {
     "output_type": "error",
     "ename": "RemoteDataError",
     "evalue": "Unable to read URL: https://finance.yahoo.com/quote/FB/history?period1=1388545200&period2=1495677599&interval=1d&frequency=1d&filter=history\nResponse Text:\nb'<!DOCTYPE html>\\n  <html lang=\"en-us\"><head>\\n  <meta http-equiv=\"content-type\" content=\"text/html; charset=UTF-8\">\\n      <meta charset=\"utf-8\">\\n      <title>Yahoo</title>\\n      <meta name=\"viewport\" content=\"width=device-width,initial-scale=1,minimal-ui\">\\n      <meta http-equiv=\"X-UA-Compatible\" content=\"IE=edge,chrome=1\">\\n      <style>\\n  html {\\n      height: 100%;\\n  }\\n  body {\\n      background: #fafafc url(https://s.yimg.com/nn/img/sad-panda-201402200631.png) 50% 50%;\\n      background-size: cover;\\n      height: 100%;\\n      text-align: center;\\n      font: 300 18px \"helvetica neue\", helvetica, verdana, tahoma, arial, sans-serif;\\n  }\\n  table {\\n      height: 100%;\\n      width: 100%;\\n      table-layout: fixed;\\n      border-collapse: collapse;\\n      border-spacing: 0;\\n      border: none;\\n  }\\n  h1 {\\n      font-size: 42px;\\n      font-weight: 400;\\n      color: #400090;\\n  }\\n  p {\\n      color: #1A1A1A;\\n  }\\n  #message-1 {\\n      font-weight: bold;\\n      margin: 0;\\n  }\\n  #message-2 {\\n      display: inline-block;\\n      *display: inline;\\n      zoom: 1;\\n      max-width: 17em;\\n      _width: 17em;\\n  }\\n      </style>\\n  <script>\\n    document.write(\\'<img src=\"//geo.yahoo.com/b?s=1197757129&t=\\'+new Date().getTime()+\\'&src=aws&err_url=\\'+encodeURIComponent(document.URL)+\\'&err=%<pssc>&test=\\'+encodeURIComponent(\\'%<{Bucket}cqh[:200]>\\')+\\'\" width=\"0px\" height=\"0px\"/>\\');var beacon = new Image();beacon.src=\"//bcn.fp.yahoo.com/p?s=1197757129&t=\"+new Date().getTime()+\"&src=aws&err_url=\"+encodeURIComponent(document.URL)+\"&err=%<pssc>&test=\"+encodeURIComponent(\\'%<{Bucket}cqh[:200]>\\');\\n  </script>\\n  </head>\\n  <body>\\n  <!-- status code : 404 -->\\n  <!-- Not Found on Server -->\\n  <table>\\n  <tbody><tr>\\n      <td>\\n      <img src=\"https://s.yimg.com/rz/p/yahoo_frontpage_en-US_s_f_p_205x58_frontpage.png\" alt=\"Yahoo Logo\">\\n      <h1 style=\"margin-top:20px;\">Will be right back...</h1>\\n      <p id=\"message-1\">Thank you for your patience.</p>\\n      <p id=\"message-2\">Our engineers are working quickly to resolve the issue.</p>\\n      </td>\\n  </tr>\\n  </tbody></table>\\n  </body></html>'",
     "traceback": [
      "\u001b[1;31m---------------------------------------------------------------------------\u001b[0m",
      "\u001b[1;31mRemoteDataError\u001b[0m                           Traceback (most recent call last)",
      "\u001b[1;32m~\\AppData\\Local\\Temp/ipykernel_23100/631604236.py\u001b[0m in \u001b[0;36m<module>\u001b[1;34m\u001b[0m\n\u001b[0;32m      2\u001b[0m \u001b[0mend\u001b[0m \u001b[1;33m=\u001b[0m \u001b[0mdatetime\u001b[0m\u001b[1;33m(\u001b[0m\u001b[1;36m2017\u001b[0m\u001b[1;33m,\u001b[0m \u001b[1;36m5\u001b[0m\u001b[1;33m,\u001b[0m \u001b[1;36m24\u001b[0m\u001b[1;33m)\u001b[0m\u001b[1;33m\u001b[0m\u001b[1;33m\u001b[0m\u001b[0m\n\u001b[0;32m      3\u001b[0m \u001b[1;33m\u001b[0m\u001b[0m\n\u001b[1;32m----> 4\u001b[1;33m \u001b[0myahoo\u001b[0m\u001b[1;33m=\u001b[0m \u001b[0mweb\u001b[0m\u001b[1;33m.\u001b[0m\u001b[0mDataReader\u001b[0m\u001b[1;33m(\u001b[0m\u001b[1;34m'FB'\u001b[0m\u001b[1;33m,\u001b[0m \u001b[1;34m'yahoo'\u001b[0m\u001b[1;33m,\u001b[0m \u001b[0mstart\u001b[0m\u001b[1;33m=\u001b[0m\u001b[0mstart\u001b[0m\u001b[1;33m,\u001b[0m \u001b[0mend\u001b[0m\u001b[1;33m=\u001b[0m\u001b[0mend\u001b[0m\u001b[1;33m)\u001b[0m\u001b[1;33m\u001b[0m\u001b[1;33m\u001b[0m\u001b[0m\n\u001b[0m\u001b[0;32m      5\u001b[0m \u001b[0myahoo\u001b[0m\u001b[1;33m.\u001b[0m\u001b[0minfo\u001b[0m\u001b[1;33m(\u001b[0m\u001b[1;33m)\u001b[0m\u001b[1;33m\u001b[0m\u001b[1;33m\u001b[0m\u001b[0m\n",
      "\u001b[1;32mC:\\Anaconda\\lib\\site-packages\\pandas\\util\\_decorators.py\u001b[0m in \u001b[0;36mwrapper\u001b[1;34m(*args, **kwargs)\u001b[0m\n\u001b[0;32m    205\u001b[0m                 \u001b[1;32melse\u001b[0m\u001b[1;33m:\u001b[0m\u001b[1;33m\u001b[0m\u001b[1;33m\u001b[0m\u001b[0m\n\u001b[0;32m    206\u001b[0m                     \u001b[0mkwargs\u001b[0m\u001b[1;33m[\u001b[0m\u001b[0mnew_arg_name\u001b[0m\u001b[1;33m]\u001b[0m \u001b[1;33m=\u001b[0m \u001b[0mnew_arg_value\u001b[0m\u001b[1;33m\u001b[0m\u001b[1;33m\u001b[0m\u001b[0m\n\u001b[1;32m--> 207\u001b[1;33m             \u001b[1;32mreturn\u001b[0m \u001b[0mfunc\u001b[0m\u001b[1;33m(\u001b[0m\u001b[1;33m*\u001b[0m\u001b[0margs\u001b[0m\u001b[1;33m,\u001b[0m \u001b[1;33m**\u001b[0m\u001b[0mkwargs\u001b[0m\u001b[1;33m)\u001b[0m\u001b[1;33m\u001b[0m\u001b[1;33m\u001b[0m\u001b[0m\n\u001b[0m\u001b[0;32m    208\u001b[0m \u001b[1;33m\u001b[0m\u001b[0m\n\u001b[0;32m    209\u001b[0m         \u001b[1;32mreturn\u001b[0m \u001b[0mcast\u001b[0m\u001b[1;33m(\u001b[0m\u001b[0mF\u001b[0m\u001b[1;33m,\u001b[0m \u001b[0mwrapper\u001b[0m\u001b[1;33m)\u001b[0m\u001b[1;33m\u001b[0m\u001b[1;33m\u001b[0m\u001b[0m\n",
      "\u001b[1;32mC:\\Anaconda\\lib\\site-packages\\pandas_datareader\\data.py\u001b[0m in \u001b[0;36mDataReader\u001b[1;34m(name, data_source, start, end, retry_count, pause, session, api_key)\u001b[0m\n\u001b[0;32m    374\u001b[0m \u001b[1;33m\u001b[0m\u001b[0m\n\u001b[0;32m    375\u001b[0m     \u001b[1;32mif\u001b[0m \u001b[0mdata_source\u001b[0m \u001b[1;33m==\u001b[0m \u001b[1;34m\"yahoo\"\u001b[0m\u001b[1;33m:\u001b[0m\u001b[1;33m\u001b[0m\u001b[1;33m\u001b[0m\u001b[0m\n\u001b[1;32m--> 376\u001b[1;33m         return YahooDailyReader(\n\u001b[0m\u001b[0;32m    377\u001b[0m             \u001b[0msymbols\u001b[0m\u001b[1;33m=\u001b[0m\u001b[0mname\u001b[0m\u001b[1;33m,\u001b[0m\u001b[1;33m\u001b[0m\u001b[1;33m\u001b[0m\u001b[0m\n\u001b[0;32m    378\u001b[0m             \u001b[0mstart\u001b[0m\u001b[1;33m=\u001b[0m\u001b[0mstart\u001b[0m\u001b[1;33m,\u001b[0m\u001b[1;33m\u001b[0m\u001b[1;33m\u001b[0m\u001b[0m\n",
      "\u001b[1;32mC:\\Anaconda\\lib\\site-packages\\pandas_datareader\\base.py\u001b[0m in \u001b[0;36mread\u001b[1;34m(self)\u001b[0m\n\u001b[0;32m    251\u001b[0m         \u001b[1;31m# If a single symbol, (e.g., 'GOOG')\u001b[0m\u001b[1;33m\u001b[0m\u001b[1;33m\u001b[0m\u001b[1;33m\u001b[0m\u001b[0m\n\u001b[0;32m    252\u001b[0m         \u001b[1;32mif\u001b[0m \u001b[0misinstance\u001b[0m\u001b[1;33m(\u001b[0m\u001b[0mself\u001b[0m\u001b[1;33m.\u001b[0m\u001b[0msymbols\u001b[0m\u001b[1;33m,\u001b[0m \u001b[1;33m(\u001b[0m\u001b[0mstring_types\u001b[0m\u001b[1;33m,\u001b[0m \u001b[0mint\u001b[0m\u001b[1;33m)\u001b[0m\u001b[1;33m)\u001b[0m\u001b[1;33m:\u001b[0m\u001b[1;33m\u001b[0m\u001b[1;33m\u001b[0m\u001b[0m\n\u001b[1;32m--> 253\u001b[1;33m             \u001b[0mdf\u001b[0m \u001b[1;33m=\u001b[0m \u001b[0mself\u001b[0m\u001b[1;33m.\u001b[0m\u001b[0m_read_one_data\u001b[0m\u001b[1;33m(\u001b[0m\u001b[0mself\u001b[0m\u001b[1;33m.\u001b[0m\u001b[0murl\u001b[0m\u001b[1;33m,\u001b[0m \u001b[0mparams\u001b[0m\u001b[1;33m=\u001b[0m\u001b[0mself\u001b[0m\u001b[1;33m.\u001b[0m\u001b[0m_get_params\u001b[0m\u001b[1;33m(\u001b[0m\u001b[0mself\u001b[0m\u001b[1;33m.\u001b[0m\u001b[0msymbols\u001b[0m\u001b[1;33m)\u001b[0m\u001b[1;33m)\u001b[0m\u001b[1;33m\u001b[0m\u001b[1;33m\u001b[0m\u001b[0m\n\u001b[0m\u001b[0;32m    254\u001b[0m         \u001b[1;31m# Or multiple symbols, (e.g., ['GOOG', 'AAPL', 'MSFT'])\u001b[0m\u001b[1;33m\u001b[0m\u001b[1;33m\u001b[0m\u001b[1;33m\u001b[0m\u001b[0m\n\u001b[0;32m    255\u001b[0m         \u001b[1;32melif\u001b[0m \u001b[0misinstance\u001b[0m\u001b[1;33m(\u001b[0m\u001b[0mself\u001b[0m\u001b[1;33m.\u001b[0m\u001b[0msymbols\u001b[0m\u001b[1;33m,\u001b[0m \u001b[0mDataFrame\u001b[0m\u001b[1;33m)\u001b[0m\u001b[1;33m:\u001b[0m\u001b[1;33m\u001b[0m\u001b[1;33m\u001b[0m\u001b[0m\n",
      "\u001b[1;32mC:\\Anaconda\\lib\\site-packages\\pandas_datareader\\yahoo\\daily.py\u001b[0m in \u001b[0;36m_read_one_data\u001b[1;34m(self, url, params)\u001b[0m\n\u001b[0;32m    151\u001b[0m         \u001b[0murl\u001b[0m \u001b[1;33m=\u001b[0m \u001b[0murl\u001b[0m\u001b[1;33m.\u001b[0m\u001b[0mformat\u001b[0m\u001b[1;33m(\u001b[0m\u001b[0msymbol\u001b[0m\u001b[1;33m)\u001b[0m\u001b[1;33m\u001b[0m\u001b[1;33m\u001b[0m\u001b[0m\n\u001b[0;32m    152\u001b[0m \u001b[1;33m\u001b[0m\u001b[0m\n\u001b[1;32m--> 153\u001b[1;33m         \u001b[0mresp\u001b[0m \u001b[1;33m=\u001b[0m \u001b[0mself\u001b[0m\u001b[1;33m.\u001b[0m\u001b[0m_get_response\u001b[0m\u001b[1;33m(\u001b[0m\u001b[0murl\u001b[0m\u001b[1;33m,\u001b[0m \u001b[0mparams\u001b[0m\u001b[1;33m=\u001b[0m\u001b[0mparams\u001b[0m\u001b[1;33m)\u001b[0m\u001b[1;33m\u001b[0m\u001b[1;33m\u001b[0m\u001b[0m\n\u001b[0m\u001b[0;32m    154\u001b[0m         \u001b[0mptrn\u001b[0m \u001b[1;33m=\u001b[0m \u001b[1;34mr\"root\\.App\\.main = (.*?);\\n}\\(this\\)\\);\"\u001b[0m\u001b[1;33m\u001b[0m\u001b[1;33m\u001b[0m\u001b[0m\n\u001b[0;32m    155\u001b[0m         \u001b[1;32mtry\u001b[0m\u001b[1;33m:\u001b[0m\u001b[1;33m\u001b[0m\u001b[1;33m\u001b[0m\u001b[0m\n",
      "\u001b[1;32mC:\\Anaconda\\lib\\site-packages\\pandas_datareader\\base.py\u001b[0m in \u001b[0;36m_get_response\u001b[1;34m(self, url, params, headers)\u001b[0m\n\u001b[0;32m    179\u001b[0m             \u001b[0mmsg\u001b[0m \u001b[1;33m+=\u001b[0m \u001b[1;34m\"\\nResponse Text:\\n{0}\"\u001b[0m\u001b[1;33m.\u001b[0m\u001b[0mformat\u001b[0m\u001b[1;33m(\u001b[0m\u001b[0mlast_response_text\u001b[0m\u001b[1;33m)\u001b[0m\u001b[1;33m\u001b[0m\u001b[1;33m\u001b[0m\u001b[0m\n\u001b[0;32m    180\u001b[0m \u001b[1;33m\u001b[0m\u001b[0m\n\u001b[1;32m--> 181\u001b[1;33m         \u001b[1;32mraise\u001b[0m \u001b[0mRemoteDataError\u001b[0m\u001b[1;33m(\u001b[0m\u001b[0mmsg\u001b[0m\u001b[1;33m)\u001b[0m\u001b[1;33m\u001b[0m\u001b[1;33m\u001b[0m\u001b[0m\n\u001b[0m\u001b[0;32m    182\u001b[0m \u001b[1;33m\u001b[0m\u001b[0m\n\u001b[0;32m    183\u001b[0m     \u001b[1;32mdef\u001b[0m \u001b[0m_get_crumb\u001b[0m\u001b[1;33m(\u001b[0m\u001b[0mself\u001b[0m\u001b[1;33m,\u001b[0m \u001b[1;33m*\u001b[0m\u001b[0margs\u001b[0m\u001b[1;33m)\u001b[0m\u001b[1;33m:\u001b[0m\u001b[1;33m\u001b[0m\u001b[1;33m\u001b[0m\u001b[0m\n",
      "\u001b[1;31mRemoteDataError\u001b[0m: Unable to read URL: https://finance.yahoo.com/quote/FB/history?period1=1388545200&period2=1495677599&interval=1d&frequency=1d&filter=history\nResponse Text:\nb'<!DOCTYPE html>\\n  <html lang=\"en-us\"><head>\\n  <meta http-equiv=\"content-type\" content=\"text/html; charset=UTF-8\">\\n      <meta charset=\"utf-8\">\\n      <title>Yahoo</title>\\n      <meta name=\"viewport\" content=\"width=device-width,initial-scale=1,minimal-ui\">\\n      <meta http-equiv=\"X-UA-Compatible\" content=\"IE=edge,chrome=1\">\\n      <style>\\n  html {\\n      height: 100%;\\n  }\\n  body {\\n      background: #fafafc url(https://s.yimg.com/nn/img/sad-panda-201402200631.png) 50% 50%;\\n      background-size: cover;\\n      height: 100%;\\n      text-align: center;\\n      font: 300 18px \"helvetica neue\", helvetica, verdana, tahoma, arial, sans-serif;\\n  }\\n  table {\\n      height: 100%;\\n      width: 100%;\\n      table-layout: fixed;\\n      border-collapse: collapse;\\n      border-spacing: 0;\\n      border: none;\\n  }\\n  h1 {\\n      font-size: 42px;\\n      font-weight: 400;\\n      color: #400090;\\n  }\\n  p {\\n      color: #1A1A1A;\\n  }\\n  #message-1 {\\n      font-weight: bold;\\n      margin: 0;\\n  }\\n  #message-2 {\\n      display: inline-block;\\n      *display: inline;\\n      zoom: 1;\\n      max-width: 17em;\\n      _width: 17em;\\n  }\\n      </style>\\n  <script>\\n    document.write(\\'<img src=\"//geo.yahoo.com/b?s=1197757129&t=\\'+new Date().getTime()+\\'&src=aws&err_url=\\'+encodeURIComponent(document.URL)+\\'&err=%<pssc>&test=\\'+encodeURIComponent(\\'%<{Bucket}cqh[:200]>\\')+\\'\" width=\"0px\" height=\"0px\"/>\\');var beacon = new Image();beacon.src=\"//bcn.fp.yahoo.com/p?s=1197757129&t=\"+new Date().getTime()+\"&src=aws&err_url=\"+encodeURIComponent(document.URL)+\"&err=%<pssc>&test=\"+encodeURIComponent(\\'%<{Bucket}cqh[:200]>\\');\\n  </script>\\n  </head>\\n  <body>\\n  <!-- status code : 404 -->\\n  <!-- Not Found on Server -->\\n  <table>\\n  <tbody><tr>\\n      <td>\\n      <img src=\"https://s.yimg.com/rz/p/yahoo_frontpage_en-US_s_f_p_205x58_frontpage.png\" alt=\"Yahoo Logo\">\\n      <h1 style=\"margin-top:20px;\">Will be right back...</h1>\\n      <p id=\"message-1\">Thank you for your patience.</p>\\n      <p id=\"message-2\">Our engineers are working quickly to resolve the issue.</p>\\n      </td>\\n  </tr>\\n  </tbody></table>\\n  </body></html>'"
     ]
    }
   ],
   "metadata": {
    "ExecuteTime": {
     "end_time": "2018-12-25T19:14:56.812409Z",
     "start_time": "2018-12-25T19:14:55.703363Z"
    }
   }
  },
  {
   "cell_type": "markdown",
   "source": [
    "### IEX"
   ],
   "metadata": {}
  },
  {
   "cell_type": "markdown",
   "source": [
    "**Note:** IEX is transitioning to a new [API](https://iexcloud.io/?gclid=CjwKCAjw0tHoBRBhEiwAvP1GFVD5xGq6i_NNYJFlV2Em6y5jOKr3LfsAjDoXpAHSJMqILVcIZGu1LxoCCTYQAvD_BwE) that will require a (free) account; the datareader will be updated accordingly with the next [release](https://github.com/pydata/pandas-datareader/pull/638)."
   ],
   "metadata": {}
  },
  {
   "cell_type": "markdown",
   "source": [
    "IEX is an alternative exchange started in response to the HFT controversy and portrayed in Michael Lewis' controversial Flash Boys. It aims to slow down the speed of trading to create a more level playing field and has been growing rapidly since launch in 2016 while still small with a market share of around 2.5% in June 2018."
   ],
   "metadata": {}
  },
  {
   "cell_type": "code",
   "execution_count": 6,
   "source": [
    "start = datetime(2015, 2, 9)\r\n",
    "# end = datetime(2017, 5, 24)\r\n",
    "\r\n",
    "iex = web.DataReader('FB', 'iex', start)\r\n",
    "iex.info()"
   ],
   "outputs": [
    {
     "output_type": "error",
     "ename": "ValueError",
     "evalue": "The IEX Cloud API key must be provided either through the api_key variable or through the  environment variable IEX_API_KEY",
     "traceback": [
      "\u001b[1;31m---------------------------------------------------------------------------\u001b[0m",
      "\u001b[1;31mValueError\u001b[0m                                Traceback (most recent call last)",
      "\u001b[1;32m~\\AppData\\Local\\Temp/ipykernel_23100/2494699123.py\u001b[0m in \u001b[0;36m<module>\u001b[1;34m\u001b[0m\n\u001b[0;32m      2\u001b[0m \u001b[1;31m# end = datetime(2017, 5, 24)\u001b[0m\u001b[1;33m\u001b[0m\u001b[1;33m\u001b[0m\u001b[1;33m\u001b[0m\u001b[0m\n\u001b[0;32m      3\u001b[0m \u001b[1;33m\u001b[0m\u001b[0m\n\u001b[1;32m----> 4\u001b[1;33m \u001b[0miex\u001b[0m \u001b[1;33m=\u001b[0m \u001b[0mweb\u001b[0m\u001b[1;33m.\u001b[0m\u001b[0mDataReader\u001b[0m\u001b[1;33m(\u001b[0m\u001b[1;34m'FB'\u001b[0m\u001b[1;33m,\u001b[0m \u001b[1;34m'iex'\u001b[0m\u001b[1;33m,\u001b[0m \u001b[0mstart\u001b[0m\u001b[1;33m)\u001b[0m\u001b[1;33m\u001b[0m\u001b[1;33m\u001b[0m\u001b[0m\n\u001b[0m\u001b[0;32m      5\u001b[0m \u001b[0miex\u001b[0m\u001b[1;33m.\u001b[0m\u001b[0minfo\u001b[0m\u001b[1;33m(\u001b[0m\u001b[1;33m)\u001b[0m\u001b[1;33m\u001b[0m\u001b[1;33m\u001b[0m\u001b[0m\n",
      "\u001b[1;32mC:\\Anaconda\\lib\\site-packages\\pandas\\util\\_decorators.py\u001b[0m in \u001b[0;36mwrapper\u001b[1;34m(*args, **kwargs)\u001b[0m\n\u001b[0;32m    205\u001b[0m                 \u001b[1;32melse\u001b[0m\u001b[1;33m:\u001b[0m\u001b[1;33m\u001b[0m\u001b[1;33m\u001b[0m\u001b[0m\n\u001b[0;32m    206\u001b[0m                     \u001b[0mkwargs\u001b[0m\u001b[1;33m[\u001b[0m\u001b[0mnew_arg_name\u001b[0m\u001b[1;33m]\u001b[0m \u001b[1;33m=\u001b[0m \u001b[0mnew_arg_value\u001b[0m\u001b[1;33m\u001b[0m\u001b[1;33m\u001b[0m\u001b[0m\n\u001b[1;32m--> 207\u001b[1;33m             \u001b[1;32mreturn\u001b[0m \u001b[0mfunc\u001b[0m\u001b[1;33m(\u001b[0m\u001b[1;33m*\u001b[0m\u001b[0margs\u001b[0m\u001b[1;33m,\u001b[0m \u001b[1;33m**\u001b[0m\u001b[0mkwargs\u001b[0m\u001b[1;33m)\u001b[0m\u001b[1;33m\u001b[0m\u001b[1;33m\u001b[0m\u001b[0m\n\u001b[0m\u001b[0;32m    208\u001b[0m \u001b[1;33m\u001b[0m\u001b[0m\n\u001b[0;32m    209\u001b[0m         \u001b[1;32mreturn\u001b[0m \u001b[0mcast\u001b[0m\u001b[1;33m(\u001b[0m\u001b[0mF\u001b[0m\u001b[1;33m,\u001b[0m \u001b[0mwrapper\u001b[0m\u001b[1;33m)\u001b[0m\u001b[1;33m\u001b[0m\u001b[1;33m\u001b[0m\u001b[0m\n",
      "\u001b[1;32mC:\\Anaconda\\lib\\site-packages\\pandas_datareader\\data.py\u001b[0m in \u001b[0;36mDataReader\u001b[1;34m(name, data_source, start, end, retry_count, pause, session, api_key)\u001b[0m\n\u001b[0;32m    386\u001b[0m \u001b[1;33m\u001b[0m\u001b[0m\n\u001b[0;32m    387\u001b[0m     \u001b[1;32melif\u001b[0m \u001b[0mdata_source\u001b[0m \u001b[1;33m==\u001b[0m \u001b[1;34m\"iex\"\u001b[0m\u001b[1;33m:\u001b[0m\u001b[1;33m\u001b[0m\u001b[1;33m\u001b[0m\u001b[0m\n\u001b[1;32m--> 388\u001b[1;33m         return IEXDailyReader(\n\u001b[0m\u001b[0;32m    389\u001b[0m             \u001b[0msymbols\u001b[0m\u001b[1;33m=\u001b[0m\u001b[0mname\u001b[0m\u001b[1;33m,\u001b[0m\u001b[1;33m\u001b[0m\u001b[1;33m\u001b[0m\u001b[0m\n\u001b[0;32m    390\u001b[0m             \u001b[0mstart\u001b[0m\u001b[1;33m=\u001b[0m\u001b[0mstart\u001b[0m\u001b[1;33m,\u001b[0m\u001b[1;33m\u001b[0m\u001b[1;33m\u001b[0m\u001b[0m\n",
      "\u001b[1;32mC:\\Anaconda\\lib\\site-packages\\pandas_datareader\\iex\\daily.py\u001b[0m in \u001b[0;36m__init__\u001b[1;34m(self, symbols, start, end, retry_count, pause, session, chunksize, api_key)\u001b[0m\n\u001b[0;32m     61\u001b[0m             \u001b[0mapi_key\u001b[0m \u001b[1;33m=\u001b[0m \u001b[0mos\u001b[0m\u001b[1;33m.\u001b[0m\u001b[0mgetenv\u001b[0m\u001b[1;33m(\u001b[0m\u001b[1;34m\"IEX_API_KEY\"\u001b[0m\u001b[1;33m)\u001b[0m\u001b[1;33m\u001b[0m\u001b[1;33m\u001b[0m\u001b[0m\n\u001b[0;32m     62\u001b[0m         \u001b[1;32mif\u001b[0m \u001b[1;32mnot\u001b[0m \u001b[0mapi_key\u001b[0m \u001b[1;32mor\u001b[0m \u001b[1;32mnot\u001b[0m \u001b[0misinstance\u001b[0m\u001b[1;33m(\u001b[0m\u001b[0mapi_key\u001b[0m\u001b[1;33m,\u001b[0m \u001b[0mstr\u001b[0m\u001b[1;33m)\u001b[0m\u001b[1;33m:\u001b[0m\u001b[1;33m\u001b[0m\u001b[1;33m\u001b[0m\u001b[0m\n\u001b[1;32m---> 63\u001b[1;33m             raise ValueError(\n\u001b[0m\u001b[0;32m     64\u001b[0m                 \u001b[1;34m\"The IEX Cloud API key must be provided either \"\u001b[0m\u001b[1;33m\u001b[0m\u001b[1;33m\u001b[0m\u001b[0m\n\u001b[0;32m     65\u001b[0m                 \u001b[1;34m\"through the api_key variable or through the \"\u001b[0m\u001b[1;33m\u001b[0m\u001b[1;33m\u001b[0m\u001b[0m\n",
      "\u001b[1;31mValueError\u001b[0m: The IEX Cloud API key must be provided either through the api_key variable or through the  environment variable IEX_API_KEY"
     ]
    }
   ],
   "metadata": {
    "ExecuteTime": {
     "end_time": "2018-12-25T19:14:57.093439Z",
     "start_time": "2018-12-25T19:14:56.813719Z"
    }
   }
  },
  {
   "cell_type": "code",
   "execution_count": 7,
   "source": [
    "iex.tail()"
   ],
   "outputs": [
    {
     "output_type": "execute_result",
     "data": {
      "text/plain": [
       "              open    high     low   close    volume\n",
       "date                                                \n",
       "2019-04-10  178.18  178.79  176.54  177.82  11701479\n",
       "2019-04-11  178.24  178.40  177.00  177.51   8070967\n",
       "2019-04-12  178.00  179.63  177.95  179.10  12329812\n",
       "2019-04-15  178.50  180.50  176.87  179.65  10834762\n",
       "2019-04-16  179.00  180.17  178.30  178.87  11215193"
      ],
      "text/html": [
       "<div>\n",
       "<style scoped>\n",
       "    .dataframe tbody tr th:only-of-type {\n",
       "        vertical-align: middle;\n",
       "    }\n",
       "\n",
       "    .dataframe tbody tr th {\n",
       "        vertical-align: top;\n",
       "    }\n",
       "\n",
       "    .dataframe thead th {\n",
       "        text-align: right;\n",
       "    }\n",
       "</style>\n",
       "<table border=\"1\" class=\"dataframe\">\n",
       "  <thead>\n",
       "    <tr style=\"text-align: right;\">\n",
       "      <th></th>\n",
       "      <th>open</th>\n",
       "      <th>high</th>\n",
       "      <th>low</th>\n",
       "      <th>close</th>\n",
       "      <th>volume</th>\n",
       "    </tr>\n",
       "    <tr>\n",
       "      <th>date</th>\n",
       "      <th></th>\n",
       "      <th></th>\n",
       "      <th></th>\n",
       "      <th></th>\n",
       "      <th></th>\n",
       "    </tr>\n",
       "  </thead>\n",
       "  <tbody>\n",
       "    <tr>\n",
       "      <th>2019-04-10</th>\n",
       "      <td>178.18</td>\n",
       "      <td>178.79</td>\n",
       "      <td>176.54</td>\n",
       "      <td>177.82</td>\n",
       "      <td>11701479</td>\n",
       "    </tr>\n",
       "    <tr>\n",
       "      <th>2019-04-11</th>\n",
       "      <td>178.24</td>\n",
       "      <td>178.40</td>\n",
       "      <td>177.00</td>\n",
       "      <td>177.51</td>\n",
       "      <td>8070967</td>\n",
       "    </tr>\n",
       "    <tr>\n",
       "      <th>2019-04-12</th>\n",
       "      <td>178.00</td>\n",
       "      <td>179.63</td>\n",
       "      <td>177.95</td>\n",
       "      <td>179.10</td>\n",
       "      <td>12329812</td>\n",
       "    </tr>\n",
       "    <tr>\n",
       "      <th>2019-04-15</th>\n",
       "      <td>178.50</td>\n",
       "      <td>180.50</td>\n",
       "      <td>176.87</td>\n",
       "      <td>179.65</td>\n",
       "      <td>10834762</td>\n",
       "    </tr>\n",
       "    <tr>\n",
       "      <th>2019-04-16</th>\n",
       "      <td>179.00</td>\n",
       "      <td>180.17</td>\n",
       "      <td>178.30</td>\n",
       "      <td>178.87</td>\n",
       "      <td>11215193</td>\n",
       "    </tr>\n",
       "  </tbody>\n",
       "</table>\n",
       "</div>"
      ]
     },
     "metadata": {},
     "execution_count": 7
    }
   ],
   "metadata": {
    "ExecuteTime": {
     "end_time": "2018-12-25T19:14:57.108760Z",
     "start_time": "2018-12-25T19:14:57.095941Z"
    }
   }
  },
  {
   "cell_type": "markdown",
   "source": [
    "#### Book Data\n",
    "\n",
    "In addition to historical EOD price and volume data, IEX provides real-time depth of book quotations that offer an aggregated size of orders by price and side. This service also includes last trade price and size information.\n",
    "\n",
    "DEEP is used to receive real-time depth of book quotations direct from IEX. The depth of book quotations received via DEEP provide an aggregated size of resting displayed orders at a price and side, and do not indicate the size or number of individual orders at any price level. Non-displayed orders and non-displayed portions of reserve orders are not represented in DEEP.\n",
    "\n",
    "DEEP also provides last trade price and size information. Trades resulting from either displayed or non-displayed orders matching on IEX will be reported. Routed executions will not be reported."
   ],
   "metadata": {}
  },
  {
   "cell_type": "markdown",
   "source": [
    "Only works on trading days."
   ],
   "metadata": {}
  },
  {
   "cell_type": "code",
   "execution_count": 8,
   "source": [
    "book = web.get_iex_book('AAPL')"
   ],
   "outputs": [],
   "metadata": {
    "ExecuteTime": {
     "end_time": "2018-12-25T19:14:57.278095Z",
     "start_time": "2018-12-25T19:14:57.110743Z"
    }
   }
  },
  {
   "cell_type": "code",
   "execution_count": 9,
   "source": [
    "list(book.keys())"
   ],
   "outputs": [
    {
     "output_type": "execute_result",
     "data": {
      "text/plain": [
       "['symbol',\n",
       " 'marketPercent',\n",
       " 'volume',\n",
       " 'lastSalePrice',\n",
       " 'lastSaleSize',\n",
       " 'lastSaleTime',\n",
       " 'lastUpdated',\n",
       " 'bids',\n",
       " 'asks',\n",
       " 'systemEvent',\n",
       " 'tradingStatus',\n",
       " 'opHaltStatus',\n",
       " 'ssrStatus',\n",
       " 'securityEvent',\n",
       " 'trades',\n",
       " 'tradeBreaks']"
      ]
     },
     "metadata": {},
     "execution_count": 9
    }
   ],
   "metadata": {
    "ExecuteTime": {
     "end_time": "2018-12-25T19:14:57.302122Z",
     "start_time": "2018-12-25T19:14:57.289530Z"
    }
   }
  },
  {
   "cell_type": "code",
   "execution_count": 10,
   "source": [
    "orders = pd.concat([pd.DataFrame(book[side]).assign(side=side) for side in ['bids', 'asks']])\r\n",
    "orders.head()"
   ],
   "outputs": [
    {
     "output_type": "execute_result",
     "data": {
      "text/plain": [
       "Empty DataFrame\n",
       "Columns: [side]\n",
       "Index: []"
      ],
      "text/html": [
       "<div>\n",
       "<style scoped>\n",
       "    .dataframe tbody tr th:only-of-type {\n",
       "        vertical-align: middle;\n",
       "    }\n",
       "\n",
       "    .dataframe tbody tr th {\n",
       "        vertical-align: top;\n",
       "    }\n",
       "\n",
       "    .dataframe thead th {\n",
       "        text-align: right;\n",
       "    }\n",
       "</style>\n",
       "<table border=\"1\" class=\"dataframe\">\n",
       "  <thead>\n",
       "    <tr style=\"text-align: right;\">\n",
       "      <th></th>\n",
       "      <th>side</th>\n",
       "    </tr>\n",
       "  </thead>\n",
       "  <tbody>\n",
       "  </tbody>\n",
       "</table>\n",
       "</div>"
      ]
     },
     "metadata": {},
     "execution_count": 10
    }
   ],
   "metadata": {
    "ExecuteTime": {
     "end_time": "2018-12-25T19:14:57.318139Z",
     "start_time": "2018-12-25T19:14:57.307227Z"
    }
   }
  },
  {
   "cell_type": "code",
   "execution_count": 11,
   "source": [
    "for key in book.keys():\r\n",
    "    try:\r\n",
    "        print(f'\\n{key}')\r\n",
    "        print(pd.DataFrame(book[key]))\r\n",
    "    except:\r\n",
    "        print(book[key])"
   ],
   "outputs": [
    {
     "output_type": "stream",
     "name": "stdout",
     "text": [
      "\n",
      "symbol\n",
      "AAPL\n",
      "\n",
      "marketPercent\n",
      "0.03324\n",
      "\n",
      "volume\n",
      "977659\n",
      "\n",
      "lastSalePrice\n",
      "203.19\n",
      "\n",
      "lastSaleSize\n",
      "3\n",
      "\n",
      "lastSaleTime\n",
      "1555531318248\n",
      "\n",
      "lastUpdated\n",
      "1555532174025\n",
      "\n",
      "bids\n",
      "Empty DataFrame\n",
      "Columns: []\n",
      "Index: []\n",
      "\n",
      "asks\n",
      "Empty DataFrame\n",
      "Columns: []\n",
      "Index: []\n",
      "\n",
      "systemEvent\n",
      "{'systemEvent': 'C', 'timestamp': 1555535400001}\n",
      "\n",
      "tradingStatus\n",
      "{'status': 'T', 'reason': '    ', 'timestamp': 1555500532036}\n",
      "\n",
      "opHaltStatus\n",
      "{'isHalted': False, 'timestamp': 1555500532036}\n",
      "\n",
      "ssrStatus\n",
      "{'isSSR': False, 'detail': ' ', 'timestamp': 1555500532036}\n",
      "\n",
      "securityEvent\n",
      "{'securityEvent': 'MarketClose', 'timestamp': 1555531200000}\n",
      "\n",
      "trades\n",
      "    isISO  isOddLot  isOutsideRegularHours  isSinglePriceCross  \\\n",
      "0    True      True                   True               False   \n",
      "1   False     False                  False               False   \n",
      "2    True     False                  False               False   \n",
      "3   False     False                  False               False   \n",
      "4    True     False                  False               False   \n",
      "5   False     False                  False               False   \n",
      "6   False     False                  False               False   \n",
      "7    True     False                  False               False   \n",
      "8    True     False                  False               False   \n",
      "9    True     False                  False               False   \n",
      "10  False      True                  False               False   \n",
      "11  False     False                  False               False   \n",
      "12   True      True                  False               False   \n",
      "13  False     False                  False               False   \n",
      "14  False     False                  False               False   \n",
      "15  False     False                  False               False   \n",
      "16   True      True                  False               False   \n",
      "17   True     False                  False               False   \n",
      "18   True      True                  False               False   \n",
      "19  False     False                  False               False   \n",
      "\n",
      "    isTradeThroughExempt    price  size      timestamp    tradeId  \n",
      "0                  False  203.190     3  1555531318248  891604355  \n",
      "1                  False  203.200   100  1555531197248  890272160  \n",
      "2                  False  203.140   100  1555531195857  889977488  \n",
      "3                  False  203.155   100  1555531195465  889859713  \n",
      "4                  False  203.140   100  1555531195292  889808657  \n",
      "5                  False  203.110   100  1555531194852  889619571  \n",
      "6                  False  203.100   100  1555531194822  889606541  \n",
      "7                  False  203.180   100  1555531194794  889585630  \n",
      "8                   True  203.180   100  1555531194794  889585556  \n",
      "9                  False  203.180   100  1555531191476  889002606  \n",
      "10                 False  203.190    25  1555531190110  888694678  \n",
      "11                 False  203.140   100  1555531187948  888262843  \n",
      "12                 False  203.160    64  1555531187684  888228377  \n",
      "13                 False  203.160   100  1555531187682  888227956  \n",
      "14                 False  203.160   100  1555531187681  888227469  \n",
      "15                 False  203.160   100  1555531187680  888227241  \n",
      "16                 False  203.160    36  1555531187680  888227079  \n",
      "17                 False  203.160   100  1555531187680  888227061  \n",
      "18                 False  203.170     9  1555531185364  887813837  \n",
      "19                 False  203.150   200  1555531184053  887531882  \n",
      "\n",
      "tradeBreaks\n",
      "Empty DataFrame\n",
      "Columns: []\n",
      "Index: []\n"
     ]
    }
   ],
   "metadata": {
    "ExecuteTime": {
     "end_time": "2018-12-25T19:14:57.333155Z",
     "start_time": "2018-12-25T19:14:57.319823Z"
    }
   }
  },
  {
   "cell_type": "code",
   "execution_count": 12,
   "source": [
    "pd.DataFrame(book['trades']).head()"
   ],
   "outputs": [
    {
     "output_type": "execute_result",
     "data": {
      "text/plain": [
       "   isISO  isOddLot  isOutsideRegularHours  isSinglePriceCross  \\\n",
       "0   True      True                   True               False   \n",
       "1  False     False                  False               False   \n",
       "2   True     False                  False               False   \n",
       "3  False     False                  False               False   \n",
       "4   True     False                  False               False   \n",
       "\n",
       "   isTradeThroughExempt    price  size      timestamp    tradeId  \n",
       "0                 False  203.190     3  1555531318248  891604355  \n",
       "1                 False  203.200   100  1555531197248  890272160  \n",
       "2                 False  203.140   100  1555531195857  889977488  \n",
       "3                 False  203.155   100  1555531195465  889859713  \n",
       "4                 False  203.140   100  1555531195292  889808657  "
      ],
      "text/html": [
       "<div>\n",
       "<style scoped>\n",
       "    .dataframe tbody tr th:only-of-type {\n",
       "        vertical-align: middle;\n",
       "    }\n",
       "\n",
       "    .dataframe tbody tr th {\n",
       "        vertical-align: top;\n",
       "    }\n",
       "\n",
       "    .dataframe thead th {\n",
       "        text-align: right;\n",
       "    }\n",
       "</style>\n",
       "<table border=\"1\" class=\"dataframe\">\n",
       "  <thead>\n",
       "    <tr style=\"text-align: right;\">\n",
       "      <th></th>\n",
       "      <th>isISO</th>\n",
       "      <th>isOddLot</th>\n",
       "      <th>isOutsideRegularHours</th>\n",
       "      <th>isSinglePriceCross</th>\n",
       "      <th>isTradeThroughExempt</th>\n",
       "      <th>price</th>\n",
       "      <th>size</th>\n",
       "      <th>timestamp</th>\n",
       "      <th>tradeId</th>\n",
       "    </tr>\n",
       "  </thead>\n",
       "  <tbody>\n",
       "    <tr>\n",
       "      <th>0</th>\n",
       "      <td>True</td>\n",
       "      <td>True</td>\n",
       "      <td>True</td>\n",
       "      <td>False</td>\n",
       "      <td>False</td>\n",
       "      <td>203.190</td>\n",
       "      <td>3</td>\n",
       "      <td>1555531318248</td>\n",
       "      <td>891604355</td>\n",
       "    </tr>\n",
       "    <tr>\n",
       "      <th>1</th>\n",
       "      <td>False</td>\n",
       "      <td>False</td>\n",
       "      <td>False</td>\n",
       "      <td>False</td>\n",
       "      <td>False</td>\n",
       "      <td>203.200</td>\n",
       "      <td>100</td>\n",
       "      <td>1555531197248</td>\n",
       "      <td>890272160</td>\n",
       "    </tr>\n",
       "    <tr>\n",
       "      <th>2</th>\n",
       "      <td>True</td>\n",
       "      <td>False</td>\n",
       "      <td>False</td>\n",
       "      <td>False</td>\n",
       "      <td>False</td>\n",
       "      <td>203.140</td>\n",
       "      <td>100</td>\n",
       "      <td>1555531195857</td>\n",
       "      <td>889977488</td>\n",
       "    </tr>\n",
       "    <tr>\n",
       "      <th>3</th>\n",
       "      <td>False</td>\n",
       "      <td>False</td>\n",
       "      <td>False</td>\n",
       "      <td>False</td>\n",
       "      <td>False</td>\n",
       "      <td>203.155</td>\n",
       "      <td>100</td>\n",
       "      <td>1555531195465</td>\n",
       "      <td>889859713</td>\n",
       "    </tr>\n",
       "    <tr>\n",
       "      <th>4</th>\n",
       "      <td>True</td>\n",
       "      <td>False</td>\n",
       "      <td>False</td>\n",
       "      <td>False</td>\n",
       "      <td>False</td>\n",
       "      <td>203.140</td>\n",
       "      <td>100</td>\n",
       "      <td>1555531195292</td>\n",
       "      <td>889808657</td>\n",
       "    </tr>\n",
       "  </tbody>\n",
       "</table>\n",
       "</div>"
      ]
     },
     "metadata": {},
     "execution_count": 12
    }
   ],
   "metadata": {
    "ExecuteTime": {
     "end_time": "2018-12-25T19:14:57.420316Z",
     "start_time": "2018-12-25T19:14:57.334612Z"
    }
   }
  },
  {
   "cell_type": "markdown",
   "source": [
    "### Quandl"
   ],
   "metadata": {}
  },
  {
   "cell_type": "markdown",
   "source": [
    "Obtain Quandl [API Key](https://www.quandl.com/tools/api) and store in environment variable as `QUANDL_API_KEY`."
   ],
   "metadata": {}
  },
  {
   "cell_type": "code",
   "execution_count": 1,
   "source": [
    "symbol = 'FB.US'\r\n",
    "\r\n",
    "quandl = web.DataReader(symbol, 'quandl', '2015-01-01')\r\n",
    "quandl.info()"
   ],
   "outputs": [
    {
     "output_type": "stream",
     "name": "stdout",
     "text": [
      "<class 'pandas.core.frame.DataFrame'>\n",
      "DatetimeIndex: 813 entries, 2018-03-27 to 2015-01-02\n",
      "Data columns (total 12 columns):\n",
      "Open          813 non-null float64\n",
      "High          813 non-null float64\n",
      "Low           813 non-null float64\n",
      "Close         813 non-null float64\n",
      "Volume        813 non-null float64\n",
      "ExDividend    813 non-null float64\n",
      "SplitRatio    813 non-null float64\n",
      "AdjOpen       813 non-null float64\n",
      "AdjHigh       813 non-null float64\n",
      "AdjLow        813 non-null float64\n",
      "AdjClose      813 non-null float64\n",
      "AdjVolume     813 non-null float64\n",
      "dtypes: float64(12)\n",
      "memory usage: 82.6 KB\n"
     ]
    }
   ],
   "metadata": {
    "ExecuteTime": {
     "end_time": "2018-12-25T19:15:07.500237Z",
     "start_time": "2018-12-25T19:15:06.978720Z"
    }
   }
  },
  {
   "cell_type": "markdown",
   "source": [
    "### FRED"
   ],
   "metadata": {}
  },
  {
   "cell_type": "code",
   "execution_count": 7,
   "source": [
    "start = datetime(2010, 1, 1)\r\n",
    "\r\n",
    "end = datetime(2013, 1, 27)\r\n",
    "\r\n",
    "gdp = web.DataReader('GDP', 'fred', start, end)\r\n",
    "\r\n",
    "gdp.info()"
   ],
   "outputs": [
    {
     "output_type": "stream",
     "name": "stdout",
     "text": [
      "<class 'pandas.core.frame.DataFrame'>\n",
      "DatetimeIndex: 13 entries, 2010-01-01 to 2013-01-01\n",
      "Data columns (total 1 columns):\n",
      " #   Column  Non-Null Count  Dtype  \n",
      "---  ------  --------------  -----  \n",
      " 0   GDP     13 non-null     float64\n",
      "dtypes: float64(1)\n",
      "memory usage: 208.0 bytes\n"
     ]
    }
   ],
   "metadata": {
    "ExecuteTime": {
     "end_time": "2018-12-25T19:15:07.662461Z",
     "start_time": "2018-12-25T19:15:07.501573Z"
    }
   }
  },
  {
   "cell_type": "code",
   "execution_count": 8,
   "source": [
    "inflation = web.DataReader(['CPIAUCSL', 'CPILFESL'], 'fred', start, end)\r\n",
    "inflation.info()"
   ],
   "outputs": [
    {
     "output_type": "stream",
     "name": "stdout",
     "text": [
      "<class 'pandas.core.frame.DataFrame'>\n",
      "DatetimeIndex: 37 entries, 2010-01-01 to 2013-01-01\n",
      "Data columns (total 2 columns):\n",
      " #   Column    Non-Null Count  Dtype  \n",
      "---  ------    --------------  -----  \n",
      " 0   CPIAUCSL  37 non-null     float64\n",
      " 1   CPILFESL  37 non-null     float64\n",
      "dtypes: float64(2)\n",
      "memory usage: 888.0 bytes\n"
     ]
    }
   ],
   "metadata": {
    "ExecuteTime": {
     "end_time": "2018-12-25T19:15:09.584269Z",
     "start_time": "2018-12-25T19:15:09.399866Z"
    }
   }
  },
  {
   "cell_type": "markdown",
   "source": [
    "### Fama/French"
   ],
   "metadata": {}
  },
  {
   "cell_type": "code",
   "execution_count": 9,
   "source": [
    "from pandas_datareader.famafrench import get_available_datasets\r\n",
    "get_available_datasets()"
   ],
   "outputs": [
    {
     "output_type": "execute_result",
     "data": {
      "text/plain": [
       "['F-F_Research_Data_Factors',\n",
       " 'F-F_Research_Data_Factors_weekly',\n",
       " 'F-F_Research_Data_Factors_daily',\n",
       " 'F-F_Research_Data_5_Factors_2x3',\n",
       " 'F-F_Research_Data_5_Factors_2x3_daily',\n",
       " 'Portfolios_Formed_on_ME',\n",
       " 'Portfolios_Formed_on_ME_Wout_Div',\n",
       " 'Portfolios_Formed_on_ME_Daily',\n",
       " 'Portfolios_Formed_on_BE-ME',\n",
       " 'Portfolios_Formed_on_BE-ME_Wout_Div',\n",
       " 'Portfolios_Formed_on_BE-ME_Daily',\n",
       " 'Portfolios_Formed_on_OP',\n",
       " 'Portfolios_Formed_on_OP_Wout_Div',\n",
       " 'Portfolios_Formed_on_OP_Daily',\n",
       " 'Portfolios_Formed_on_INV',\n",
       " 'Portfolios_Formed_on_INV_Wout_Div',\n",
       " 'Portfolios_Formed_on_INV_Daily',\n",
       " '6_Portfolios_2x3',\n",
       " '6_Portfolios_2x3_Wout_Div',\n",
       " '6_Portfolios_2x3_weekly',\n",
       " '6_Portfolios_2x3_daily',\n",
       " '25_Portfolios_5x5',\n",
       " '25_Portfolios_5x5_Wout_Div',\n",
       " '25_Portfolios_5x5_Daily',\n",
       " '100_Portfolios_10x10',\n",
       " '100_Portfolios_10x10_Wout_Div',\n",
       " '100_Portfolios_10x10_Daily',\n",
       " '6_Portfolios_ME_OP_2x3',\n",
       " '6_Portfolios_ME_OP_2x3_Wout_Div',\n",
       " '6_Portfolios_ME_OP_2x3_daily',\n",
       " '25_Portfolios_ME_OP_5x5',\n",
       " '25_Portfolios_ME_OP_5x5_Wout_Div',\n",
       " '25_Portfolios_ME_OP_5x5_daily',\n",
       " '100_Portfolios_ME_OP_10x10',\n",
       " '100_Portfolios_10x10_ME_OP_Wout_Div',\n",
       " '100_Portfolios_ME_OP_10x10_daily',\n",
       " '6_Portfolios_ME_INV_2x3',\n",
       " '6_Portfolios_ME_INV_2x3_Wout_Div',\n",
       " '6_Portfolios_ME_INV_2x3_daily',\n",
       " '25_Portfolios_ME_INV_5x5',\n",
       " '25_Portfolios_ME_INV_5x5_Wout_Div',\n",
       " '25_Portfolios_ME_INV_5x5_daily',\n",
       " '100_Portfolios_ME_INV_10x10',\n",
       " '100_Portfolios_10x10_ME_INV_Wout_Div',\n",
       " '100_Portfolios_ME_INV_10x10_daily',\n",
       " '25_Portfolios_BEME_OP_5x5',\n",
       " '25_Portfolios_BEME_OP_5x5_Wout_Div',\n",
       " '25_Portfolios_BEME_OP_5x5_daily',\n",
       " '25_Portfolios_BEME_INV_5x5',\n",
       " '25_Portfolios_BEME_INV_5x5_Wout_Div',\n",
       " '25_Portfolios_BEME_INV_5x5_daily',\n",
       " '25_Portfolios_OP_INV_5x5',\n",
       " '25_Portfolios_OP_INV_5x5_Wout_Div',\n",
       " '25_Portfolios_OP_INV_5x5_daily',\n",
       " '32_Portfolios_ME_BEME_OP_2x4x4',\n",
       " '32_Portfolios_ME_BEME_OP_2x4x4_Wout_Div',\n",
       " '32_Portfolios_ME_BEME_INV_2x4x4',\n",
       " '32_Portfolios_ME_BEME_INV_2x4x4_Wout_Div',\n",
       " '32_Portfolios_ME_OP_INV_2x4x4',\n",
       " '32_Portfolios_ME_OP_INV_2x4x4_Wout_Div',\n",
       " 'Portfolios_Formed_on_E-P',\n",
       " 'Portfolios_Formed_on_E-P_Wout_Div',\n",
       " 'Portfolios_Formed_on_CF-P',\n",
       " 'Portfolios_Formed_on_CF-P_Wout_Div',\n",
       " 'Portfolios_Formed_on_D-P',\n",
       " 'Portfolios_Formed_on_D-P_Wout_Div',\n",
       " '6_Portfolios_ME_EP_2x3',\n",
       " '6_Portfolios_ME_EP_2x3_Wout_Div',\n",
       " '6_Portfolios_ME_CFP_2x3',\n",
       " '6_Portfolios_ME_CFP_2x3_Wout_Div',\n",
       " '6_Portfolios_ME_DP_2x3',\n",
       " '6_Portfolios_ME_DP_2x3_Wout_Div',\n",
       " 'F-F_Momentum_Factor',\n",
       " 'F-F_Momentum_Factor_daily',\n",
       " '6_Portfolios_ME_Prior_12_2',\n",
       " '6_Portfolios_ME_Prior_12_2_Daily',\n",
       " '25_Portfolios_ME_Prior_12_2',\n",
       " '25_Portfolios_ME_Prior_12_2_Daily',\n",
       " '10_Portfolios_Prior_12_2',\n",
       " '10_Portfolios_Prior_12_2_Daily',\n",
       " 'F-F_ST_Reversal_Factor',\n",
       " 'F-F_ST_Reversal_Factor_daily',\n",
       " '6_Portfolios_ME_Prior_1_0',\n",
       " '6_Portfolios_ME_Prior_1_0_Daily',\n",
       " '25_Portfolios_ME_Prior_1_0',\n",
       " '25_Portfolios_ME_Prior_1_0_Daily',\n",
       " '10_Portfolios_Prior_1_0',\n",
       " '10_Portfolios_Prior_1_0_Daily',\n",
       " 'F-F_LT_Reversal_Factor',\n",
       " 'F-F_LT_Reversal_Factor_daily',\n",
       " '6_Portfolios_ME_Prior_60_13',\n",
       " '6_Portfolios_ME_Prior_60_13_Daily',\n",
       " '25_Portfolios_ME_Prior_60_13',\n",
       " '25_Portfolios_ME_Prior_60_13_Daily',\n",
       " '10_Portfolios_Prior_60_13',\n",
       " '10_Portfolios_Prior_60_13_Daily',\n",
       " 'Portfolios_Formed_on_AC',\n",
       " '25_Portfolios_ME_AC_5x5',\n",
       " 'Portfolios_Formed_on_BETA',\n",
       " '25_Portfolios_ME_BETA_5x5',\n",
       " 'Portfolios_Formed_on_NI',\n",
       " '25_Portfolios_ME_NI_5x5',\n",
       " 'Portfolios_Formed_on_VAR',\n",
       " '25_Portfolios_ME_VAR_5x5',\n",
       " 'Portfolios_Formed_on_RESVAR',\n",
       " '25_Portfolios_ME_RESVAR_5x5',\n",
       " '5_Industry_Portfolios',\n",
       " '5_Industry_Portfolios_Wout_Div',\n",
       " '5_Industry_Portfolios_daily',\n",
       " '10_Industry_Portfolios',\n",
       " '10_Industry_Portfolios_Wout_Div',\n",
       " '10_Industry_Portfolios_daily',\n",
       " '12_Industry_Portfolios',\n",
       " '12_Industry_Portfolios_Wout_Div',\n",
       " '12_Industry_Portfolios_daily',\n",
       " '17_Industry_Portfolios',\n",
       " '17_Industry_Portfolios_Wout_Div',\n",
       " '17_Industry_Portfolios_daily',\n",
       " '30_Industry_Portfolios',\n",
       " '30_Industry_Portfolios_Wout_Div',\n",
       " '30_Industry_Portfolios_daily',\n",
       " '38_Industry_Portfolios',\n",
       " '38_Industry_Portfolios_Wout_Div',\n",
       " '38_Industry_Portfolios_daily',\n",
       " '48_Industry_Portfolios',\n",
       " '48_Industry_Portfolios_Wout_Div',\n",
       " '48_Industry_Portfolios_daily',\n",
       " '49_Industry_Portfolios',\n",
       " '49_Industry_Portfolios_Wout_Div',\n",
       " '49_Industry_Portfolios_daily',\n",
       " 'ME_Breakpoints',\n",
       " 'BE-ME_Breakpoints',\n",
       " 'OP_Breakpoints',\n",
       " 'INV_Breakpoints',\n",
       " 'E-P_Breakpoints',\n",
       " 'CF-P_Breakpoints',\n",
       " 'D-P_Breakpoints',\n",
       " 'Prior_2-12_Breakpoints',\n",
       " 'Developed_3_Factors',\n",
       " 'Developed_3_Factors_Daily',\n",
       " 'Developed_ex_US_3_Factors',\n",
       " 'Developed_ex_US_3_Factors_Daily',\n",
       " 'Europe_3_Factors',\n",
       " 'Europe_3_Factors_Daily',\n",
       " 'Japan_3_Factors',\n",
       " 'Japan_3_Factors_Daily',\n",
       " 'Asia_Pacific_ex_Japan_3_Factors',\n",
       " 'Asia_Pacific_ex_Japan_3_Factors_Daily',\n",
       " 'North_America_3_Factors',\n",
       " 'North_America_3_Factors_Daily',\n",
       " 'Developed_5_Factors',\n",
       " 'Developed_5_Factors_Daily',\n",
       " 'Developed_ex_US_5_Factors',\n",
       " 'Developed_ex_US_5_Factors_Daily',\n",
       " 'Europe_5_Factors',\n",
       " 'Europe_5_Factors_Daily',\n",
       " 'Japan_5_Factors',\n",
       " 'Japan_5_Factors_Daily',\n",
       " 'Asia_Pacific_ex_Japan_5_Factors',\n",
       " 'Asia_Pacific_ex_Japan_5_Factors_Daily',\n",
       " 'North_America_5_Factors',\n",
       " 'North_America_5_Factors_Daily',\n",
       " 'Developed_Mom_Factor',\n",
       " 'Developed_Mom_Factor_Daily',\n",
       " 'Developed_ex_US_Mom_Factor',\n",
       " 'Developed_ex_US_Mom_Factor_Daily',\n",
       " 'Europe_Mom_Factor',\n",
       " 'Europe_Mom_Factor_Daily',\n",
       " 'Japan_Mom_Factor',\n",
       " 'Japan_Mom_Factor_Daily',\n",
       " 'Asia_Pacific_ex_Japan_MOM_Factor',\n",
       " 'Asia_Pacific_ex_Japan_MOM_Factor_Daily',\n",
       " 'North_America_Mom_Factor',\n",
       " 'North_America_Mom_Factor_Daily',\n",
       " 'Developed_6_Portfolios_ME_BE-ME',\n",
       " 'Developed_6_Portfolios_ME_BE-ME_daily',\n",
       " 'Developed_ex_US_6_Portfolios_ME_BE-ME',\n",
       " 'Developed_ex_US_6_Portfolios_ME_BE-ME_daily',\n",
       " 'Europe_6_Portfolios_ME_BE-ME',\n",
       " 'Europe_6_Portfolios_ME_BE-ME_daily',\n",
       " 'Japan_6_Portfolios_ME_BE-ME',\n",
       " 'Japan_6_Portfolios_ME_BE-ME_daily',\n",
       " 'Asia_Pacific_ex_Japan_6_Portfolios_ME_BE-ME',\n",
       " 'Asia_Pacific_ex_Japan_6_Portfolios_ME_BE-ME_daily',\n",
       " 'North_America_6_Portfolios_ME_BE-ME',\n",
       " 'North_America_6_Portfolios_ME_BE-ME_daily',\n",
       " 'Developed_25_Portfolios_ME_BE-ME',\n",
       " 'Developed_25_Portfolios_ME_BE-ME_daily',\n",
       " 'Developed_ex_US_25_Portfolios_ME_BE-ME',\n",
       " 'Developed_ex_US_25_Portfolios_ME_BE-ME_daily',\n",
       " 'Europe_25_Portfolios_ME_BE-ME',\n",
       " 'Europe_25_Portfolios_ME_BE-ME_daily',\n",
       " 'Japan_25_Portfolios_ME_BE-ME',\n",
       " 'Japan_25_Portfolios_ME_BE-ME_daily',\n",
       " 'Asia_Pacific_ex_Japan_25_Portfolios_ME_BE-ME',\n",
       " 'Asia_Pacific_ex_Japan_25_Portfolios_ME_BE-ME_daily',\n",
       " 'North_America_25_Portfolios_ME_BE-ME',\n",
       " 'North_America_25_Portfolios_ME_BE-ME_daily',\n",
       " 'Developed_6_Portfolios_ME_OP',\n",
       " 'Developed_6_Portfolios_ME_OP_Daily',\n",
       " 'Developed_ex_US_6_Portfolios_ME_OP',\n",
       " 'Developed_ex_US_6_Portfolios_ME_OP_Daily',\n",
       " 'Europe_6_Portfolios_ME_OP',\n",
       " 'Europe_6_Portfolios_ME_OP_Daily',\n",
       " 'Japan_6_Portfolios_ME_OP',\n",
       " 'Japan_6_Portfolios_ME_OP_Daily',\n",
       " 'Asia_Pacific_ex_Japan_6_Portfolios_ME_OP',\n",
       " 'Asia_Pacific_ex_Japan_6_Portfolios_ME_OP_Daily',\n",
       " 'North_America_6_Portfolios_ME_OP',\n",
       " 'North_America_6_Portfolios_ME_OP_Daily',\n",
       " 'Developed_25_Portfolios_ME_OP',\n",
       " 'Developed_25_Portfolios_ME_OP_Daily',\n",
       " 'Developed_ex_US_25_Portfolios_ME_OP',\n",
       " 'Developed_ex_US_25_Portfolios_ME_OP_Daily',\n",
       " 'Europe_25_Portfolios_ME_OP',\n",
       " 'Europe_25_Portfolios_ME_OP_Daily',\n",
       " 'Japan_25_Portfolios_ME_OP',\n",
       " 'Japan_25_Portfolios_ME_OP_Daily',\n",
       " 'Asia_Pacific_ex_Japan_25_Portfolios_ME_OP',\n",
       " 'Asia_Pacific_ex_Japan_25_Portfolios_ME_OP_Daily',\n",
       " 'North_America_25_Portfolios_ME_OP',\n",
       " 'North_America_25_Portfolios_ME_OP_Daily',\n",
       " 'Developed_6_Portfolios_ME_INV',\n",
       " 'Developed_6_Portfolios_ME_INV_Daily',\n",
       " 'Developed_ex_US_6_Portfolios_ME_INV',\n",
       " 'Developed_ex_US_6_Portfolios_ME_INV_Daily',\n",
       " 'Europe_6_Portfolios_ME_INV',\n",
       " 'Europe_6_Portfolios_ME_INV_Daily',\n",
       " 'Japan_6_Portfolios_ME_INV',\n",
       " 'Japan_6_Portfolios_ME_INV_Daily',\n",
       " 'Asia_Pacific_ex_Japan_6_Portfolios_ME_INV',\n",
       " 'Asia_Pacific_ex_Japan_6_Portfolios_ME_INV_Daily',\n",
       " 'North_America_6_Portfolios_ME_INV',\n",
       " 'North_America_6_Portfolios_ME_INV_Daily',\n",
       " 'Developed_25_Portfolios_ME_INV',\n",
       " 'Developed_25_Portfolios_ME_INV_Daily',\n",
       " 'Developed_ex_US_25_Portfolios_ME_INV',\n",
       " 'Developed_ex_US_25_Portfolios_ME_INV_Daily',\n",
       " 'Europe_25_Portfolios_ME_INV',\n",
       " 'Europe_25_Portfolios_ME_INV_Daily',\n",
       " 'Japan_25_Portfolios_ME_INV',\n",
       " 'Japan_25_Portfolios_ME_INV_Daily',\n",
       " 'Asia_Pacific_ex_Japan_25_Portfolios_ME_INV',\n",
       " 'Asia_Pacific_ex_Japan_25_Portfolios_ME_INV_Daily',\n",
       " 'North_America_25_Portfolios_ME_INV',\n",
       " 'North_America_25_Portfolios_ME_INV_Daily',\n",
       " 'Developed_6_Portfolios_ME_Prior_12_2',\n",
       " 'Developed_6_Portfolios_ME_Prior_250_20_daily',\n",
       " 'Developed_ex_US_6_Portfolios_ME_Prior_12_2',\n",
       " 'Developed_ex_US_6_Portfolios_ME_Prior_250_20_daily',\n",
       " 'Europe_6_Portfolios_ME_Prior_12_2',\n",
       " 'Europe_6_Portfolios_ME_Prior_250_20_daily',\n",
       " 'Japan_6_Portfolios_ME_Prior_12_2',\n",
       " 'Japan_6_Portfolios_ME_Prior_250_20_daily',\n",
       " 'Asia_Pacific_ex_Japan_6_Portfolios_ME_Prior_12_2',\n",
       " 'Asia_Pacific_ex_Japan_6_Portfolios_ME_Prior_250_20_daily',\n",
       " 'North_America_6_Portfolios_ME_Prior_12_2',\n",
       " 'North_America_6_Portfolios_ME_Prior_250_20_daily',\n",
       " 'Developed_25_Portfolios_ME_Prior_12_2',\n",
       " 'Developed_25_Portfolios_ME_Prior_250_20_daily',\n",
       " 'Developed_ex_US_25_Portfolios_ME_Prior_12_2',\n",
       " 'Developed_ex_US_25_Portfolios_ME_Prior_250_20_daily',\n",
       " 'Europe_25_Portfolios_ME_Prior_12_2',\n",
       " 'Europe_25_Portfolios_ME_Prior_250_20_daily',\n",
       " 'Japan_25_Portfolios_ME_Prior_12_2',\n",
       " 'Japan_25_Portfolios_ME_Prior_250_20_daily',\n",
       " 'Asia_Pacific_ex_Japan_25_Portfolios_ME_Prior_12_2',\n",
       " 'Asia_Pacific_ex_Japan_25_Portfolios_ME_Prior_250_20_daily',\n",
       " 'North_America_25_Portfolios_ME_Prior_12_2',\n",
       " 'North_America_25_Portfolios_ME_Prior_250_20_daily',\n",
       " 'Developed_32_Portfolios_ME_BE-ME_OP_2x4x4',\n",
       " 'Developed_ex_US_32_Portfolios_ME_BE-ME_OP_2x4x4',\n",
       " 'Europe_32_Portfolios_ME_BE-ME_OP_2x4x4',\n",
       " 'Japan_32_Portfolios_ME_BE-ME_OP_2x4x4',\n",
       " 'Asia_Pacific_ex_Japan_32_Portfolios_ME_BE-ME_OP_2x4x4',\n",
       " 'North_America_32_Portfolios_ME_BE-ME_OP_2x4x4',\n",
       " 'Developed_32_Portfolios_ME_BE-ME_INV(TA)_2x4x4',\n",
       " 'Developed_ex_US_32_Portfolios_ME_BE-ME_INV(TA)_2x4x4',\n",
       " 'Europe_32_Portfolios_ME_BE-ME_INV(TA)_2x4x4',\n",
       " 'Japan_32_Portfolios_ME_BE-ME_INV(TA)_2x4x4',\n",
       " 'Asia_Pacific_ex_Japan_32_Portfolios_ME_BE-ME_INV(TA)_2x4x4',\n",
       " 'North_America_32_Portfolios_ME_BE-ME_INV(TA)_2x4x4',\n",
       " 'Developed_32_Portfolios_ME_INV(TA)_OP_2x4x4',\n",
       " 'Developed_ex_US_32_Portfolios_ME_INV(TA)_OP_2x4x4',\n",
       " 'Europe_32_Portfolios_ME_INV(TA)_OP_2x4x4',\n",
       " 'Japan_32_Portfolios_ME_INV(TA)_OP_2x4x4',\n",
       " 'Asia_Pacific_ex_Japan_32_Portfolios_ME_INV(TA)_OP_2x4x4',\n",
       " 'North_America_32_Portfolios_ME_INV(TA)_OP_2x4x4',\n",
       " 'Emerging_5_Factors',\n",
       " 'Emerging_MOM_Factor',\n",
       " 'Emerging_Markets_6_Portfolios_ME_BE-ME',\n",
       " 'Emerging_Markets_6_Portfolios_ME_OP',\n",
       " 'Emerging_Markets_6_Portfolios_ME_INV',\n",
       " 'Emerging_Markets_6_Portfolios_ME_Prior_12_2',\n",
       " 'Emerging_Markets_4_Portfolios_BE-ME_OP',\n",
       " 'Emerging_Markets_4_Portfolios_OP_INV',\n",
       " 'Emerging_Markets_4_Portfolios_BE-ME_INV']"
      ]
     },
     "metadata": {},
     "execution_count": 9
    }
   ],
   "metadata": {
    "ExecuteTime": {
     "end_time": "2018-12-25T19:15:10.764850Z",
     "start_time": "2018-12-25T19:15:10.755565Z"
    }
   }
  },
  {
   "cell_type": "code",
   "execution_count": 10,
   "source": [
    "ds = web.DataReader('5_Industry_Portfolios', 'famafrench')\r\n",
    "print(ds['DESCR'])"
   ],
   "outputs": [
    {
     "output_type": "stream",
     "name": "stdout",
     "text": [
      "5 Industry Portfolios\n",
      "---------------------\n",
      "\n",
      "This file was created by CMPT_IND_RETS using the 202108 CRSP database. It contains value- and equal-weighted returns for 5 industry portfolios. The portfolios are constructed at the end of June. The annual returns are from January to December. Missing data are indicated by -99.99 or -999. Copyright 2021 Kenneth R. French\n",
      "\n",
      "  0 : Average Value Weighted Returns -- Monthly (59 rows x 5 cols)\n",
      "  1 : Average Equal Weighted Returns -- Monthly (59 rows x 5 cols)\n",
      "  2 : Average Value Weighted Returns -- Annual (5 rows x 5 cols)\n",
      "  3 : Average Equal Weighted Returns -- Annual (5 rows x 5 cols)\n",
      "  4 : Number of Firms in Portfolios (59 rows x 5 cols)\n",
      "  5 : Average Firm Size (59 rows x 5 cols)\n",
      "  6 : Sum of BE / Sum of ME (6 rows x 5 cols)\n",
      "  7 : Value-Weighted Average of BE/ME (6 rows x 5 cols)\n"
     ]
    }
   ],
   "metadata": {
    "ExecuteTime": {
     "end_time": "2018-12-25T19:16:23.570899Z",
     "start_time": "2018-12-25T19:16:23.299817Z"
    }
   }
  },
  {
   "cell_type": "markdown",
   "source": [
    "### World Bank"
   ],
   "metadata": {}
  },
  {
   "cell_type": "code",
   "execution_count": 11,
   "source": [
    "from pandas_datareader import wb\r\n",
    "gdp_variables = wb.search('gdp.*capita.*const')\r\n",
    "gdp_variables.head()"
   ],
   "outputs": [
    {
     "output_type": "execute_result",
     "data": {
      "text/plain": [
       "                         id  \\\n",
       "716      6.0.GDPpc_constant   \n",
       "10383        NY.GDP.PCAP.KD   \n",
       "10385        NY.GDP.PCAP.KN   \n",
       "10387     NY.GDP.PCAP.PP.KD   \n",
       "10388  NY.GDP.PCAP.PP.KD.87   \n",
       "\n",
       "                                                    name unit  \\\n",
       "716    GDP per capita, PPP (constant 2011 internation...        \n",
       "10383                 GDP per capita (constant 2010 US$)        \n",
       "10385                      GDP per capita (constant LCU)        \n",
       "10387  GDP per capita, PPP (constant 2017 internation...        \n",
       "10388  GDP per capita, PPP (constant 1987 internation...        \n",
       "\n",
       "                             source  \\\n",
       "716                  LAC Equity Lab   \n",
       "10383  World Development Indicators   \n",
       "10385  World Development Indicators   \n",
       "10387  World Development Indicators   \n",
       "10388         WDI Database Archives   \n",
       "\n",
       "                                              sourceNote  \\\n",
       "716    GDP per capita based on purchasing power parit...   \n",
       "10383  GDP per capita is gross domestic product divid...   \n",
       "10385  GDP per capita is gross domestic product divid...   \n",
       "10387  GDP per capita based on purchasing power parit...   \n",
       "10388                                                      \n",
       "\n",
       "                                      sourceOrganization            topics  \n",
       "716         b'World Development Indicators (World Bank)'  Economy & Growth  \n",
       "10383  b'World Bank national accounts data, and OECD ...  Economy & Growth  \n",
       "10385  b'World Bank national accounts data, and OECD ...  Economy & Growth  \n",
       "10387  b'International Comparison Program, World Bank...  Economy & Growth  \n",
       "10388                                                b''                    "
      ],
      "text/html": [
       "<div>\n",
       "<style scoped>\n",
       "    .dataframe tbody tr th:only-of-type {\n",
       "        vertical-align: middle;\n",
       "    }\n",
       "\n",
       "    .dataframe tbody tr th {\n",
       "        vertical-align: top;\n",
       "    }\n",
       "\n",
       "    .dataframe thead th {\n",
       "        text-align: right;\n",
       "    }\n",
       "</style>\n",
       "<table border=\"1\" class=\"dataframe\">\n",
       "  <thead>\n",
       "    <tr style=\"text-align: right;\">\n",
       "      <th></th>\n",
       "      <th>id</th>\n",
       "      <th>name</th>\n",
       "      <th>unit</th>\n",
       "      <th>source</th>\n",
       "      <th>sourceNote</th>\n",
       "      <th>sourceOrganization</th>\n",
       "      <th>topics</th>\n",
       "    </tr>\n",
       "  </thead>\n",
       "  <tbody>\n",
       "    <tr>\n",
       "      <th>716</th>\n",
       "      <td>6.0.GDPpc_constant</td>\n",
       "      <td>GDP per capita, PPP (constant 2011 internation...</td>\n",
       "      <td></td>\n",
       "      <td>LAC Equity Lab</td>\n",
       "      <td>GDP per capita based on purchasing power parit...</td>\n",
       "      <td>b'World Development Indicators (World Bank)'</td>\n",
       "      <td>Economy &amp; Growth</td>\n",
       "    </tr>\n",
       "    <tr>\n",
       "      <th>10383</th>\n",
       "      <td>NY.GDP.PCAP.KD</td>\n",
       "      <td>GDP per capita (constant 2010 US$)</td>\n",
       "      <td></td>\n",
       "      <td>World Development Indicators</td>\n",
       "      <td>GDP per capita is gross domestic product divid...</td>\n",
       "      <td>b'World Bank national accounts data, and OECD ...</td>\n",
       "      <td>Economy &amp; Growth</td>\n",
       "    </tr>\n",
       "    <tr>\n",
       "      <th>10385</th>\n",
       "      <td>NY.GDP.PCAP.KN</td>\n",
       "      <td>GDP per capita (constant LCU)</td>\n",
       "      <td></td>\n",
       "      <td>World Development Indicators</td>\n",
       "      <td>GDP per capita is gross domestic product divid...</td>\n",
       "      <td>b'World Bank national accounts data, and OECD ...</td>\n",
       "      <td>Economy &amp; Growth</td>\n",
       "    </tr>\n",
       "    <tr>\n",
       "      <th>10387</th>\n",
       "      <td>NY.GDP.PCAP.PP.KD</td>\n",
       "      <td>GDP per capita, PPP (constant 2017 internation...</td>\n",
       "      <td></td>\n",
       "      <td>World Development Indicators</td>\n",
       "      <td>GDP per capita based on purchasing power parit...</td>\n",
       "      <td>b'International Comparison Program, World Bank...</td>\n",
       "      <td>Economy &amp; Growth</td>\n",
       "    </tr>\n",
       "    <tr>\n",
       "      <th>10388</th>\n",
       "      <td>NY.GDP.PCAP.PP.KD.87</td>\n",
       "      <td>GDP per capita, PPP (constant 1987 internation...</td>\n",
       "      <td></td>\n",
       "      <td>WDI Database Archives</td>\n",
       "      <td></td>\n",
       "      <td>b''</td>\n",
       "      <td></td>\n",
       "    </tr>\n",
       "  </tbody>\n",
       "</table>\n",
       "</div>"
      ]
     },
     "metadata": {},
     "execution_count": 11
    }
   ],
   "metadata": {}
  },
  {
   "cell_type": "code",
   "execution_count": 12,
   "source": [
    "wb_data = wb.download(indicator='NY.GDP.PCAP.KD', \r\n",
    "                      country=['US', 'CA', 'MX'], \r\n",
    "                      start=1990, \r\n",
    "                      end=2021)\r\n",
    "wb_data.head()"
   ],
   "outputs": [
    {
     "output_type": "execute_result",
     "data": {
      "text/plain": [
       "              NY.GDP.PCAP.KD\n",
       "country year                \n",
       "Canada  2020    48617.087895\n",
       "        2019    51956.835125\n",
       "        2018    51734.268542\n",
       "        2017    51225.673479\n",
       "        2016    50314.421667"
      ],
      "text/html": [
       "<div>\n",
       "<style scoped>\n",
       "    .dataframe tbody tr th:only-of-type {\n",
       "        vertical-align: middle;\n",
       "    }\n",
       "\n",
       "    .dataframe tbody tr th {\n",
       "        vertical-align: top;\n",
       "    }\n",
       "\n",
       "    .dataframe thead th {\n",
       "        text-align: right;\n",
       "    }\n",
       "</style>\n",
       "<table border=\"1\" class=\"dataframe\">\n",
       "  <thead>\n",
       "    <tr style=\"text-align: right;\">\n",
       "      <th></th>\n",
       "      <th></th>\n",
       "      <th>NY.GDP.PCAP.KD</th>\n",
       "    </tr>\n",
       "    <tr>\n",
       "      <th>country</th>\n",
       "      <th>year</th>\n",
       "      <th></th>\n",
       "    </tr>\n",
       "  </thead>\n",
       "  <tbody>\n",
       "    <tr>\n",
       "      <th rowspan=\"5\" valign=\"top\">Canada</th>\n",
       "      <th>2020</th>\n",
       "      <td>48617.087895</td>\n",
       "    </tr>\n",
       "    <tr>\n",
       "      <th>2019</th>\n",
       "      <td>51956.835125</td>\n",
       "    </tr>\n",
       "    <tr>\n",
       "      <th>2018</th>\n",
       "      <td>51734.268542</td>\n",
       "    </tr>\n",
       "    <tr>\n",
       "      <th>2017</th>\n",
       "      <td>51225.673479</td>\n",
       "    </tr>\n",
       "    <tr>\n",
       "      <th>2016</th>\n",
       "      <td>50314.421667</td>\n",
       "    </tr>\n",
       "  </tbody>\n",
       "</table>\n",
       "</div>"
      ]
     },
     "metadata": {},
     "execution_count": 12
    }
   ],
   "metadata": {}
  },
  {
   "cell_type": "markdown",
   "source": [
    "### OECD"
   ],
   "metadata": {}
  },
  {
   "cell_type": "code",
   "execution_count": 14,
   "source": [
    "df = web.DataReader('TUD', 'oecd', end='2021')\r\n",
    "df[['Japan', 'United States']]"
   ],
   "outputs": [
    {
     "output_type": "execute_result",
     "data": {
      "text/plain": [
       "Country                      Japan           United States\n",
       "Frequency                   Annual                  Annual\n",
       "Measure    Percentage of employees Percentage of employees\n",
       "Time                                                      \n",
       "2017-01-01               17.500000                    10.6\n",
       "2018-01-01               17.200001                    10.3\n",
       "2019-01-01               16.799999                     9.9\n",
       "2020-01-01                     NaN                    10.3"
      ],
      "text/html": [
       "<div>\n",
       "<style scoped>\n",
       "    .dataframe tbody tr th:only-of-type {\n",
       "        vertical-align: middle;\n",
       "    }\n",
       "\n",
       "    .dataframe tbody tr th {\n",
       "        vertical-align: top;\n",
       "    }\n",
       "\n",
       "    .dataframe thead tr th {\n",
       "        text-align: left;\n",
       "    }\n",
       "\n",
       "    .dataframe thead tr:last-of-type th {\n",
       "        text-align: right;\n",
       "    }\n",
       "</style>\n",
       "<table border=\"1\" class=\"dataframe\">\n",
       "  <thead>\n",
       "    <tr>\n",
       "      <th>Country</th>\n",
       "      <th>Japan</th>\n",
       "      <th>United States</th>\n",
       "    </tr>\n",
       "    <tr>\n",
       "      <th>Frequency</th>\n",
       "      <th>Annual</th>\n",
       "      <th>Annual</th>\n",
       "    </tr>\n",
       "    <tr>\n",
       "      <th>Measure</th>\n",
       "      <th>Percentage of employees</th>\n",
       "      <th>Percentage of employees</th>\n",
       "    </tr>\n",
       "    <tr>\n",
       "      <th>Time</th>\n",
       "      <th></th>\n",
       "      <th></th>\n",
       "    </tr>\n",
       "  </thead>\n",
       "  <tbody>\n",
       "    <tr>\n",
       "      <th>2017-01-01</th>\n",
       "      <td>17.500000</td>\n",
       "      <td>10.6</td>\n",
       "    </tr>\n",
       "    <tr>\n",
       "      <th>2018-01-01</th>\n",
       "      <td>17.200001</td>\n",
       "      <td>10.3</td>\n",
       "    </tr>\n",
       "    <tr>\n",
       "      <th>2019-01-01</th>\n",
       "      <td>16.799999</td>\n",
       "      <td>9.9</td>\n",
       "    </tr>\n",
       "    <tr>\n",
       "      <th>2020-01-01</th>\n",
       "      <td>NaN</td>\n",
       "      <td>10.3</td>\n",
       "    </tr>\n",
       "  </tbody>\n",
       "</table>\n",
       "</div>"
      ]
     },
     "metadata": {},
     "execution_count": 14
    }
   ],
   "metadata": {}
  },
  {
   "cell_type": "markdown",
   "source": [
    "### EuroStat"
   ],
   "metadata": {}
  },
  {
   "cell_type": "code",
   "execution_count": 15,
   "source": [
    "df = web.DataReader('tran_sf_railac', 'eurostat')"
   ],
   "outputs": [
    {
     "output_type": "error",
     "ename": "AttributeError",
     "evalue": "module 'pandas.io.common' has no attribute 'get_filepath_or_buffer'",
     "traceback": [
      "\u001b[1;31m---------------------------------------------------------------------------\u001b[0m",
      "\u001b[1;31mAttributeError\u001b[0m                            Traceback (most recent call last)",
      "\u001b[1;32m~\\AppData\\Local\\Temp/ipykernel_23100/1110081374.py\u001b[0m in \u001b[0;36m<module>\u001b[1;34m\u001b[0m\n\u001b[1;32m----> 1\u001b[1;33m \u001b[0mdf\u001b[0m \u001b[1;33m=\u001b[0m \u001b[0mweb\u001b[0m\u001b[1;33m.\u001b[0m\u001b[0mDataReader\u001b[0m\u001b[1;33m(\u001b[0m\u001b[1;34m'tran_sf_railac'\u001b[0m\u001b[1;33m,\u001b[0m \u001b[1;34m'eurostat'\u001b[0m\u001b[1;33m)\u001b[0m\u001b[1;33m\u001b[0m\u001b[1;33m\u001b[0m\u001b[0m\n\u001b[0m",
      "\u001b[1;32mC:\\Anaconda\\lib\\site-packages\\pandas\\util\\_decorators.py\u001b[0m in \u001b[0;36mwrapper\u001b[1;34m(*args, **kwargs)\u001b[0m\n\u001b[0;32m    205\u001b[0m                 \u001b[1;32melse\u001b[0m\u001b[1;33m:\u001b[0m\u001b[1;33m\u001b[0m\u001b[1;33m\u001b[0m\u001b[0m\n\u001b[0;32m    206\u001b[0m                     \u001b[0mkwargs\u001b[0m\u001b[1;33m[\u001b[0m\u001b[0mnew_arg_name\u001b[0m\u001b[1;33m]\u001b[0m \u001b[1;33m=\u001b[0m \u001b[0mnew_arg_value\u001b[0m\u001b[1;33m\u001b[0m\u001b[1;33m\u001b[0m\u001b[0m\n\u001b[1;32m--> 207\u001b[1;33m             \u001b[1;32mreturn\u001b[0m \u001b[0mfunc\u001b[0m\u001b[1;33m(\u001b[0m\u001b[1;33m*\u001b[0m\u001b[0margs\u001b[0m\u001b[1;33m,\u001b[0m \u001b[1;33m**\u001b[0m\u001b[0mkwargs\u001b[0m\u001b[1;33m)\u001b[0m\u001b[1;33m\u001b[0m\u001b[1;33m\u001b[0m\u001b[0m\n\u001b[0m\u001b[0;32m    208\u001b[0m \u001b[1;33m\u001b[0m\u001b[0m\n\u001b[0;32m    209\u001b[0m         \u001b[1;32mreturn\u001b[0m \u001b[0mcast\u001b[0m\u001b[1;33m(\u001b[0m\u001b[0mF\u001b[0m\u001b[1;33m,\u001b[0m \u001b[0mwrapper\u001b[0m\u001b[1;33m)\u001b[0m\u001b[1;33m\u001b[0m\u001b[1;33m\u001b[0m\u001b[0m\n",
      "\u001b[1;32mC:\\Anaconda\\lib\\site-packages\\pandas_datareader\\data.py\u001b[0m in \u001b[0;36mDataReader\u001b[1;34m(name, data_source, start, end, retry_count, pause, session, api_key)\u001b[0m\n\u001b[0;32m    482\u001b[0m         ).read()\n\u001b[0;32m    483\u001b[0m     \u001b[1;32melif\u001b[0m \u001b[0mdata_source\u001b[0m \u001b[1;33m==\u001b[0m \u001b[1;34m\"eurostat\"\u001b[0m\u001b[1;33m:\u001b[0m\u001b[1;33m\u001b[0m\u001b[1;33m\u001b[0m\u001b[0m\n\u001b[1;32m--> 484\u001b[1;33m         return EurostatReader(\n\u001b[0m\u001b[0;32m    485\u001b[0m             \u001b[0msymbols\u001b[0m\u001b[1;33m=\u001b[0m\u001b[0mname\u001b[0m\u001b[1;33m,\u001b[0m\u001b[1;33m\u001b[0m\u001b[1;33m\u001b[0m\u001b[0m\n\u001b[0;32m    486\u001b[0m             \u001b[0mstart\u001b[0m\u001b[1;33m=\u001b[0m\u001b[0mstart\u001b[0m\u001b[1;33m,\u001b[0m\u001b[1;33m\u001b[0m\u001b[1;33m\u001b[0m\u001b[0m\n",
      "\u001b[1;32mC:\\Anaconda\\lib\\site-packages\\pandas_datareader\\base.py\u001b[0m in \u001b[0;36mread\u001b[1;34m(self)\u001b[0m\n\u001b[0;32m     98\u001b[0m         \u001b[1;34m\"\"\"Read data from connector\"\"\"\u001b[0m\u001b[1;33m\u001b[0m\u001b[1;33m\u001b[0m\u001b[0m\n\u001b[0;32m     99\u001b[0m         \u001b[1;32mtry\u001b[0m\u001b[1;33m:\u001b[0m\u001b[1;33m\u001b[0m\u001b[1;33m\u001b[0m\u001b[0m\n\u001b[1;32m--> 100\u001b[1;33m             \u001b[1;32mreturn\u001b[0m \u001b[0mself\u001b[0m\u001b[1;33m.\u001b[0m\u001b[0m_read_one_data\u001b[0m\u001b[1;33m(\u001b[0m\u001b[0mself\u001b[0m\u001b[1;33m.\u001b[0m\u001b[0murl\u001b[0m\u001b[1;33m,\u001b[0m \u001b[0mself\u001b[0m\u001b[1;33m.\u001b[0m\u001b[0mparams\u001b[0m\u001b[1;33m)\u001b[0m\u001b[1;33m\u001b[0m\u001b[1;33m\u001b[0m\u001b[0m\n\u001b[0m\u001b[0;32m    101\u001b[0m         \u001b[1;32mfinally\u001b[0m\u001b[1;33m:\u001b[0m\u001b[1;33m\u001b[0m\u001b[1;33m\u001b[0m\u001b[0m\n\u001b[0;32m    102\u001b[0m             \u001b[0mself\u001b[0m\u001b[1;33m.\u001b[0m\u001b[0mclose\u001b[0m\u001b[1;33m(\u001b[0m\u001b[1;33m)\u001b[0m\u001b[1;33m\u001b[0m\u001b[1;33m\u001b[0m\u001b[0m\n",
      "\u001b[1;32mC:\\Anaconda\\lib\\site-packages\\pandas_datareader\\eurostat.py\u001b[0m in \u001b[0;36m_read_one_data\u001b[1;34m(self, url, params)\u001b[0m\n\u001b[0;32m     32\u001b[0m     \u001b[1;32mdef\u001b[0m \u001b[0m_read_one_data\u001b[0m\u001b[1;33m(\u001b[0m\u001b[0mself\u001b[0m\u001b[1;33m,\u001b[0m \u001b[0murl\u001b[0m\u001b[1;33m,\u001b[0m \u001b[0mparams\u001b[0m\u001b[1;33m)\u001b[0m\u001b[1;33m:\u001b[0m\u001b[1;33m\u001b[0m\u001b[1;33m\u001b[0m\u001b[0m\n\u001b[0;32m     33\u001b[0m         \u001b[0mresp_dsd\u001b[0m \u001b[1;33m=\u001b[0m \u001b[0mself\u001b[0m\u001b[1;33m.\u001b[0m\u001b[0m_get_response\u001b[0m\u001b[1;33m(\u001b[0m\u001b[0mself\u001b[0m\u001b[1;33m.\u001b[0m\u001b[0mdsd_url\u001b[0m\u001b[1;33m)\u001b[0m\u001b[1;33m\u001b[0m\u001b[1;33m\u001b[0m\u001b[0m\n\u001b[1;32m---> 34\u001b[1;33m         \u001b[0mdsd\u001b[0m \u001b[1;33m=\u001b[0m \u001b[0m_read_sdmx_dsd\u001b[0m\u001b[1;33m(\u001b[0m\u001b[0mresp_dsd\u001b[0m\u001b[1;33m.\u001b[0m\u001b[0mcontent\u001b[0m\u001b[1;33m)\u001b[0m\u001b[1;33m\u001b[0m\u001b[1;33m\u001b[0m\u001b[0m\n\u001b[0m\u001b[0;32m     35\u001b[0m \u001b[1;33m\u001b[0m\u001b[0m\n\u001b[0;32m     36\u001b[0m         \u001b[0mresp\u001b[0m \u001b[1;33m=\u001b[0m \u001b[0mself\u001b[0m\u001b[1;33m.\u001b[0m\u001b[0m_get_response\u001b[0m\u001b[1;33m(\u001b[0m\u001b[0murl\u001b[0m\u001b[1;33m)\u001b[0m\u001b[1;33m\u001b[0m\u001b[1;33m\u001b[0m\u001b[0m\n",
      "\u001b[1;32mC:\\Anaconda\\lib\\site-packages\\pandas_datareader\\io\\sdmx.py\u001b[0m in \u001b[0;36m_read_sdmx_dsd\u001b[1;34m(path_or_buf)\u001b[0m\n\u001b[0;32m    203\u001b[0m     \"\"\"\n\u001b[0;32m    204\u001b[0m \u001b[1;33m\u001b[0m\u001b[0m\n\u001b[1;32m--> 205\u001b[1;33m     \u001b[0mxdata\u001b[0m \u001b[1;33m=\u001b[0m \u001b[0m_read_content\u001b[0m\u001b[1;33m(\u001b[0m\u001b[0mpath_or_buf\u001b[0m\u001b[1;33m)\u001b[0m\u001b[1;33m\u001b[0m\u001b[1;33m\u001b[0m\u001b[0m\n\u001b[0m\u001b[0;32m    206\u001b[0m \u001b[1;33m\u001b[0m\u001b[0m\n\u001b[0;32m    207\u001b[0m     \u001b[1;32mimport\u001b[0m \u001b[0mxml\u001b[0m\u001b[1;33m.\u001b[0m\u001b[0metree\u001b[0m\u001b[1;33m.\u001b[0m\u001b[0mcElementTree\u001b[0m \u001b[1;32mas\u001b[0m \u001b[0mET\u001b[0m\u001b[1;33m\u001b[0m\u001b[1;33m\u001b[0m\u001b[0m\n",
      "\u001b[1;32mC:\\Anaconda\\lib\\site-packages\\pandas_datareader\\io\\util.py\u001b[0m in \u001b[0;36m_read_content\u001b[1;34m(path_or_buf)\u001b[0m\n\u001b[0;32m     11\u001b[0m     \"\"\"\n\u001b[0;32m     12\u001b[0m \u001b[1;33m\u001b[0m\u001b[0m\n\u001b[1;32m---> 13\u001b[1;33m     \u001b[0mfilepath_or_buffer\u001b[0m \u001b[1;33m=\u001b[0m \u001b[0mget_filepath_or_buffer\u001b[0m\u001b[1;33m(\u001b[0m\u001b[0mpath_or_buf\u001b[0m\u001b[1;33m)\u001b[0m\u001b[1;33m[\u001b[0m\u001b[1;36m0\u001b[0m\u001b[1;33m]\u001b[0m\u001b[1;33m\u001b[0m\u001b[1;33m\u001b[0m\u001b[0m\n\u001b[0m\u001b[0;32m     14\u001b[0m \u001b[1;33m\u001b[0m\u001b[0m\n\u001b[0;32m     15\u001b[0m     \u001b[1;32mif\u001b[0m \u001b[0misinstance\u001b[0m\u001b[1;33m(\u001b[0m\u001b[0mfilepath_or_buffer\u001b[0m\u001b[1;33m,\u001b[0m \u001b[0mstring_types\u001b[0m\u001b[1;33m)\u001b[0m\u001b[1;33m:\u001b[0m\u001b[1;33m\u001b[0m\u001b[1;33m\u001b[0m\u001b[0m\n",
      "\u001b[1;32mC:\\Anaconda\\lib\\site-packages\\pandas_datareader\\compat\\__init__.py\u001b[0m in \u001b[0;36mget_filepath_or_buffer\u001b[1;34m(filepath_or_buffer, encoding, compression)\u001b[0m\n\u001b[0;32m     41\u001b[0m         \u001b[1;32mreturn\u001b[0m \u001b[0mfilepath_or_buffer\u001b[0m\u001b[1;33m,\u001b[0m \u001b[0mencoding\u001b[0m\u001b[1;33m,\u001b[0m \u001b[0mcompression\u001b[0m\u001b[1;33m\u001b[0m\u001b[1;33m\u001b[0m\u001b[0m\n\u001b[0;32m     42\u001b[0m \u001b[1;33m\u001b[0m\u001b[0m\n\u001b[1;32m---> 43\u001b[1;33m     return com.get_filepath_or_buffer(\n\u001b[0m\u001b[0;32m     44\u001b[0m         \u001b[0mfilepath_or_buffer\u001b[0m\u001b[1;33m,\u001b[0m \u001b[0mencoding\u001b[0m\u001b[1;33m=\u001b[0m\u001b[0mencoding\u001b[0m\u001b[1;33m,\u001b[0m \u001b[0mcompression\u001b[0m\u001b[1;33m=\u001b[0m\u001b[1;32mNone\u001b[0m\u001b[1;33m\u001b[0m\u001b[1;33m\u001b[0m\u001b[0m\n\u001b[0;32m     45\u001b[0m     )\n",
      "\u001b[1;31mAttributeError\u001b[0m: module 'pandas.io.common' has no attribute 'get_filepath_or_buffer'"
     ]
    }
   ],
   "metadata": {}
  },
  {
   "cell_type": "code",
   "execution_count": 22,
   "source": [
    "df.head()"
   ],
   "outputs": [
    {
     "output_type": "execute_result",
     "data": {
      "text/plain": [
       "ACCIDENT    Collisions of trains, including collisions with obstacles within the clearance gauge  \\\n",
       "UNIT                                                                                      Number   \n",
       "GEO                                                                                      Austria   \n",
       "FREQ                                                                                      Annual   \n",
       "TIME_PERIOD                                                                                        \n",
       "2010-01-01                                                 3.0                                     \n",
       "2011-01-01                                                 2.0                                     \n",
       "2012-01-01                                                 1.0                                     \n",
       "2013-01-01                                                 4.0                                     \n",
       "2014-01-01                                                 1.0                                     \n",
       "\n",
       "ACCIDENT                                                         \\\n",
       "UNIT                                                              \n",
       "GEO         Belgium Bulgaria Switzerland Channel Tunnel Czechia   \n",
       "FREQ         Annual   Annual      Annual         Annual  Annual   \n",
       "TIME_PERIOD                                                       \n",
       "2010-01-01      5.0      2.0         5.0            0.0     3.0   \n",
       "2011-01-01      0.0      0.0         4.0            0.0     6.0   \n",
       "2012-01-01      3.0      3.0         4.0            0.0     6.0   \n",
       "2013-01-01      1.0      2.0         6.0            0.0     5.0   \n",
       "2014-01-01      3.0      4.0         0.0            0.0    13.0   \n",
       "\n",
       "ACCIDENT                                                                      \\\n",
       "UNIT                                                                           \n",
       "GEO         Germany (until 1990 former territory of the FRG) Denmark Estonia   \n",
       "FREQ                                                  Annual  Annual  Annual   \n",
       "TIME_PERIOD                                                                    \n",
       "2010-01-01                                              13.0     0.0     1.0   \n",
       "2011-01-01                                              18.0     1.0     0.0   \n",
       "2012-01-01                                              23.0     1.0     3.0   \n",
       "2013-01-01                                              29.0     0.0     0.0   \n",
       "2014-01-01                                              32.0     0.0     0.0   \n",
       "\n",
       "ACCIDENT            ...     Unknown                                        \\\n",
       "UNIT                ...      Number                                         \n",
       "GEO         Greece  ... Netherlands Norway Poland Portugal Romania Sweden   \n",
       "FREQ        Annual  ...      Annual Annual Annual   Annual  Annual Annual   \n",
       "TIME_PERIOD         ...                                                     \n",
       "2010-01-01     4.0  ...         NaN    NaN    NaN      NaN     NaN    NaN   \n",
       "2011-01-01     1.0  ...         NaN    NaN    NaN      NaN     NaN    NaN   \n",
       "2012-01-01     2.0  ...         NaN    NaN    NaN      NaN     NaN    NaN   \n",
       "2013-01-01     2.0  ...         NaN    NaN    NaN      NaN     NaN    NaN   \n",
       "2014-01-01     1.0  ...         NaN    NaN    NaN      NaN     NaN    NaN   \n",
       "\n",
       "ACCIDENT                                             \n",
       "UNIT                                                 \n",
       "GEO         Slovenia Slovakia Turkey United Kingdom  \n",
       "FREQ          Annual   Annual Annual         Annual  \n",
       "TIME_PERIOD                                          \n",
       "2010-01-01       NaN      NaN    0.0            NaN  \n",
       "2011-01-01       NaN      NaN    0.0            NaN  \n",
       "2012-01-01       NaN      NaN    0.0            NaN  \n",
       "2013-01-01       NaN      NaN    0.0            NaN  \n",
       "2014-01-01       NaN      NaN    0.0            NaN  \n",
       "\n",
       "[5 rows x 264 columns]"
      ],
      "text/html": [
       "<div>\n",
       "<style scoped>\n",
       "    .dataframe tbody tr th:only-of-type {\n",
       "        vertical-align: middle;\n",
       "    }\n",
       "\n",
       "    .dataframe tbody tr th {\n",
       "        vertical-align: top;\n",
       "    }\n",
       "\n",
       "    .dataframe thead tr th {\n",
       "        text-align: left;\n",
       "    }\n",
       "\n",
       "    .dataframe thead tr:last-of-type th {\n",
       "        text-align: right;\n",
       "    }\n",
       "</style>\n",
       "<table border=\"1\" class=\"dataframe\">\n",
       "  <thead>\n",
       "    <tr>\n",
       "      <th>ACCIDENT</th>\n",
       "      <th colspan=\"10\" halign=\"left\">Collisions of trains, including collisions with obstacles within the clearance gauge</th>\n",
       "      <th>...</th>\n",
       "      <th colspan=\"10\" halign=\"left\">Unknown</th>\n",
       "    </tr>\n",
       "    <tr>\n",
       "      <th>UNIT</th>\n",
       "      <th colspan=\"10\" halign=\"left\">Number</th>\n",
       "      <th>...</th>\n",
       "      <th colspan=\"10\" halign=\"left\">Number</th>\n",
       "    </tr>\n",
       "    <tr>\n",
       "      <th>GEO</th>\n",
       "      <th>Austria</th>\n",
       "      <th>Belgium</th>\n",
       "      <th>Bulgaria</th>\n",
       "      <th>Switzerland</th>\n",
       "      <th>Channel Tunnel</th>\n",
       "      <th>Czechia</th>\n",
       "      <th>Germany (until 1990 former territory of the FRG)</th>\n",
       "      <th>Denmark</th>\n",
       "      <th>Estonia</th>\n",
       "      <th>Greece</th>\n",
       "      <th>...</th>\n",
       "      <th>Netherlands</th>\n",
       "      <th>Norway</th>\n",
       "      <th>Poland</th>\n",
       "      <th>Portugal</th>\n",
       "      <th>Romania</th>\n",
       "      <th>Sweden</th>\n",
       "      <th>Slovenia</th>\n",
       "      <th>Slovakia</th>\n",
       "      <th>Turkey</th>\n",
       "      <th>United Kingdom</th>\n",
       "    </tr>\n",
       "    <tr>\n",
       "      <th>FREQ</th>\n",
       "      <th>Annual</th>\n",
       "      <th>Annual</th>\n",
       "      <th>Annual</th>\n",
       "      <th>Annual</th>\n",
       "      <th>Annual</th>\n",
       "      <th>Annual</th>\n",
       "      <th>Annual</th>\n",
       "      <th>Annual</th>\n",
       "      <th>Annual</th>\n",
       "      <th>Annual</th>\n",
       "      <th>...</th>\n",
       "      <th>Annual</th>\n",
       "      <th>Annual</th>\n",
       "      <th>Annual</th>\n",
       "      <th>Annual</th>\n",
       "      <th>Annual</th>\n",
       "      <th>Annual</th>\n",
       "      <th>Annual</th>\n",
       "      <th>Annual</th>\n",
       "      <th>Annual</th>\n",
       "      <th>Annual</th>\n",
       "    </tr>\n",
       "    <tr>\n",
       "      <th>TIME_PERIOD</th>\n",
       "      <th></th>\n",
       "      <th></th>\n",
       "      <th></th>\n",
       "      <th></th>\n",
       "      <th></th>\n",
       "      <th></th>\n",
       "      <th></th>\n",
       "      <th></th>\n",
       "      <th></th>\n",
       "      <th></th>\n",
       "      <th></th>\n",
       "      <th></th>\n",
       "      <th></th>\n",
       "      <th></th>\n",
       "      <th></th>\n",
       "      <th></th>\n",
       "      <th></th>\n",
       "      <th></th>\n",
       "      <th></th>\n",
       "      <th></th>\n",
       "      <th></th>\n",
       "    </tr>\n",
       "  </thead>\n",
       "  <tbody>\n",
       "    <tr>\n",
       "      <th>2010-01-01</th>\n",
       "      <td>3.0</td>\n",
       "      <td>5.0</td>\n",
       "      <td>2.0</td>\n",
       "      <td>5.0</td>\n",
       "      <td>0.0</td>\n",
       "      <td>3.0</td>\n",
       "      <td>13.0</td>\n",
       "      <td>0.0</td>\n",
       "      <td>1.0</td>\n",
       "      <td>4.0</td>\n",
       "      <td>...</td>\n",
       "      <td>NaN</td>\n",
       "      <td>NaN</td>\n",
       "      <td>NaN</td>\n",
       "      <td>NaN</td>\n",
       "      <td>NaN</td>\n",
       "      <td>NaN</td>\n",
       "      <td>NaN</td>\n",
       "      <td>NaN</td>\n",
       "      <td>0.0</td>\n",
       "      <td>NaN</td>\n",
       "    </tr>\n",
       "    <tr>\n",
       "      <th>2011-01-01</th>\n",
       "      <td>2.0</td>\n",
       "      <td>0.0</td>\n",
       "      <td>0.0</td>\n",
       "      <td>4.0</td>\n",
       "      <td>0.0</td>\n",
       "      <td>6.0</td>\n",
       "      <td>18.0</td>\n",
       "      <td>1.0</td>\n",
       "      <td>0.0</td>\n",
       "      <td>1.0</td>\n",
       "      <td>...</td>\n",
       "      <td>NaN</td>\n",
       "      <td>NaN</td>\n",
       "      <td>NaN</td>\n",
       "      <td>NaN</td>\n",
       "      <td>NaN</td>\n",
       "      <td>NaN</td>\n",
       "      <td>NaN</td>\n",
       "      <td>NaN</td>\n",
       "      <td>0.0</td>\n",
       "      <td>NaN</td>\n",
       "    </tr>\n",
       "    <tr>\n",
       "      <th>2012-01-01</th>\n",
       "      <td>1.0</td>\n",
       "      <td>3.0</td>\n",
       "      <td>3.0</td>\n",
       "      <td>4.0</td>\n",
       "      <td>0.0</td>\n",
       "      <td>6.0</td>\n",
       "      <td>23.0</td>\n",
       "      <td>1.0</td>\n",
       "      <td>3.0</td>\n",
       "      <td>2.0</td>\n",
       "      <td>...</td>\n",
       "      <td>NaN</td>\n",
       "      <td>NaN</td>\n",
       "      <td>NaN</td>\n",
       "      <td>NaN</td>\n",
       "      <td>NaN</td>\n",
       "      <td>NaN</td>\n",
       "      <td>NaN</td>\n",
       "      <td>NaN</td>\n",
       "      <td>0.0</td>\n",
       "      <td>NaN</td>\n",
       "    </tr>\n",
       "    <tr>\n",
       "      <th>2013-01-01</th>\n",
       "      <td>4.0</td>\n",
       "      <td>1.0</td>\n",
       "      <td>2.0</td>\n",
       "      <td>6.0</td>\n",
       "      <td>0.0</td>\n",
       "      <td>5.0</td>\n",
       "      <td>29.0</td>\n",
       "      <td>0.0</td>\n",
       "      <td>0.0</td>\n",
       "      <td>2.0</td>\n",
       "      <td>...</td>\n",
       "      <td>NaN</td>\n",
       "      <td>NaN</td>\n",
       "      <td>NaN</td>\n",
       "      <td>NaN</td>\n",
       "      <td>NaN</td>\n",
       "      <td>NaN</td>\n",
       "      <td>NaN</td>\n",
       "      <td>NaN</td>\n",
       "      <td>0.0</td>\n",
       "      <td>NaN</td>\n",
       "    </tr>\n",
       "    <tr>\n",
       "      <th>2014-01-01</th>\n",
       "      <td>1.0</td>\n",
       "      <td>3.0</td>\n",
       "      <td>4.0</td>\n",
       "      <td>0.0</td>\n",
       "      <td>0.0</td>\n",
       "      <td>13.0</td>\n",
       "      <td>32.0</td>\n",
       "      <td>0.0</td>\n",
       "      <td>0.0</td>\n",
       "      <td>1.0</td>\n",
       "      <td>...</td>\n",
       "      <td>NaN</td>\n",
       "      <td>NaN</td>\n",
       "      <td>NaN</td>\n",
       "      <td>NaN</td>\n",
       "      <td>NaN</td>\n",
       "      <td>NaN</td>\n",
       "      <td>NaN</td>\n",
       "      <td>NaN</td>\n",
       "      <td>0.0</td>\n",
       "      <td>NaN</td>\n",
       "    </tr>\n",
       "  </tbody>\n",
       "</table>\n",
       "<p>5 rows × 264 columns</p>\n",
       "</div>"
      ]
     },
     "metadata": {},
     "execution_count": 22
    }
   ],
   "metadata": {}
  },
  {
   "cell_type": "markdown",
   "source": [
    "\n",
    "\n",
    "### Stooq"
   ],
   "metadata": {}
  },
  {
   "cell_type": "markdown",
   "source": [
    "Google finance stopped providing common index data download. The Stooq site had this data for download for a while but is currently broken, awaiting release of [fix](https://github.com/pydata/pandas-datareader/issues/594)"
   ],
   "metadata": {}
  },
  {
   "cell_type": "code",
   "execution_count": 20,
   "source": [
    "index_url = 'https://stooq.com/t/'\r\n",
    "ix = pd.read_html(index_url)\r\n",
    "len(ix)"
   ],
   "outputs": [
    {
     "output_type": "execute_result",
     "data": {
      "text/plain": [
       "47"
      ]
     },
     "metadata": {},
     "execution_count": 20
    }
   ],
   "metadata": {
    "ExecuteTime": {
     "end_time": "2018-12-25T19:17:11.052846Z",
     "start_time": "2018-12-25T19:17:08.631634Z"
    }
   }
  },
  {
   "cell_type": "code",
   "execution_count": 21,
   "source": [
    "f = web.DataReader('^SPX', 'stooq', start='20000101')\r\n",
    "f.info()"
   ],
   "outputs": [
    {
     "output_type": "stream",
     "name": "stdout",
     "text": [
      "<class 'pandas.core.frame.DataFrame'>\n",
      "DatetimeIndex: 5475 entries, 2021-10-05 to 2000-01-03\n",
      "Data columns (total 5 columns):\n",
      " #   Column  Non-Null Count  Dtype  \n",
      "---  ------  --------------  -----  \n",
      " 0   Open    5475 non-null   float64\n",
      " 1   High    5475 non-null   float64\n",
      " 2   Low     5475 non-null   float64\n",
      " 3   Close   5475 non-null   float64\n",
      " 4   Volume  5475 non-null   int64  \n",
      "dtypes: float64(4), int64(1)\n",
      "memory usage: 256.6 KB\n"
     ]
    }
   ],
   "metadata": {
    "ExecuteTime": {
     "end_time": "2018-12-25T19:17:11.497938Z",
     "start_time": "2018-12-25T19:17:11.054004Z"
    }
   }
  },
  {
   "cell_type": "code",
   "execution_count": 22,
   "source": [
    "f.head()"
   ],
   "outputs": [
    {
     "output_type": "execute_result",
     "data": {
      "text/plain": [
       "               Open     High      Low    Close      Volume\n",
       "Date                                                      \n",
       "2021-10-05  4309.87  4369.23  4309.87  4345.72  2024616008\n",
       "2021-10-04  4348.84  4355.51  4278.94  4300.46  2352030389\n",
       "2021-10-01  4317.16  4375.19  4288.52  4357.04  2202907200\n",
       "2021-09-30  4370.67  4382.55  4306.24  4307.54  2292980186\n",
       "2021-09-29  4362.41  4385.57  4355.08  4359.46  1899919741"
      ],
      "text/html": [
       "<div>\n",
       "<style scoped>\n",
       "    .dataframe tbody tr th:only-of-type {\n",
       "        vertical-align: middle;\n",
       "    }\n",
       "\n",
       "    .dataframe tbody tr th {\n",
       "        vertical-align: top;\n",
       "    }\n",
       "\n",
       "    .dataframe thead th {\n",
       "        text-align: right;\n",
       "    }\n",
       "</style>\n",
       "<table border=\"1\" class=\"dataframe\">\n",
       "  <thead>\n",
       "    <tr style=\"text-align: right;\">\n",
       "      <th></th>\n",
       "      <th>Open</th>\n",
       "      <th>High</th>\n",
       "      <th>Low</th>\n",
       "      <th>Close</th>\n",
       "      <th>Volume</th>\n",
       "    </tr>\n",
       "    <tr>\n",
       "      <th>Date</th>\n",
       "      <th></th>\n",
       "      <th></th>\n",
       "      <th></th>\n",
       "      <th></th>\n",
       "      <th></th>\n",
       "    </tr>\n",
       "  </thead>\n",
       "  <tbody>\n",
       "    <tr>\n",
       "      <th>2021-10-05</th>\n",
       "      <td>4309.87</td>\n",
       "      <td>4369.23</td>\n",
       "      <td>4309.87</td>\n",
       "      <td>4345.72</td>\n",
       "      <td>2024616008</td>\n",
       "    </tr>\n",
       "    <tr>\n",
       "      <th>2021-10-04</th>\n",
       "      <td>4348.84</td>\n",
       "      <td>4355.51</td>\n",
       "      <td>4278.94</td>\n",
       "      <td>4300.46</td>\n",
       "      <td>2352030389</td>\n",
       "    </tr>\n",
       "    <tr>\n",
       "      <th>2021-10-01</th>\n",
       "      <td>4317.16</td>\n",
       "      <td>4375.19</td>\n",
       "      <td>4288.52</td>\n",
       "      <td>4357.04</td>\n",
       "      <td>2202907200</td>\n",
       "    </tr>\n",
       "    <tr>\n",
       "      <th>2021-09-30</th>\n",
       "      <td>4370.67</td>\n",
       "      <td>4382.55</td>\n",
       "      <td>4306.24</td>\n",
       "      <td>4307.54</td>\n",
       "      <td>2292980186</td>\n",
       "    </tr>\n",
       "    <tr>\n",
       "      <th>2021-09-29</th>\n",
       "      <td>4362.41</td>\n",
       "      <td>4385.57</td>\n",
       "      <td>4355.08</td>\n",
       "      <td>4359.46</td>\n",
       "      <td>1899919741</td>\n",
       "    </tr>\n",
       "  </tbody>\n",
       "</table>\n",
       "</div>"
      ]
     },
     "metadata": {},
     "execution_count": 22
    }
   ],
   "metadata": {
    "ExecuteTime": {
     "end_time": "2018-12-25T19:17:11.521392Z",
     "start_time": "2018-12-25T19:17:11.503799Z"
    }
   }
  },
  {
   "cell_type": "markdown",
   "source": [
    "### NASDAQ Symbols"
   ],
   "metadata": {}
  },
  {
   "cell_type": "code",
   "execution_count": 23,
   "source": [
    "from pandas_datareader.nasdaq_trader import get_nasdaq_symbols\r\n",
    "symbols = get_nasdaq_symbols()\r\n",
    "symbols.info()"
   ],
   "outputs": [
    {
     "output_type": "stream",
     "name": "stdout",
     "text": [
      "<class 'pandas.core.frame.DataFrame'>\n",
      "Index: 8701 entries, A to ZYXI\n",
      "Data columns (total 11 columns):\n",
      "Nasdaq Traded       8701 non-null bool\n",
      "Security Name       8701 non-null object\n",
      "Listing Exchange    8701 non-null category\n",
      "Market Category     8701 non-null object\n",
      "ETF                 8701 non-null bool\n",
      "Round Lot Size      8701 non-null float64\n",
      "Test Issue          8701 non-null bool\n",
      "Financial Status    3411 non-null category\n",
      "CQS Symbol          5290 non-null object\n",
      "NASDAQ Symbol       8701 non-null object\n",
      "NextShares          8701 non-null bool\n",
      "dtypes: bool(4), category(2), float64(1), object(4)\n",
      "memory usage: 459.2+ KB\n"
     ]
    }
   ],
   "metadata": {
    "ExecuteTime": {
     "end_time": "2018-12-25T19:20:56.673795Z",
     "start_time": "2018-12-25T19:20:55.625622Z"
    }
   }
  },
  {
   "cell_type": "code",
   "execution_count": 24,
   "source": [
    "url = 'https://www.nasdaq.com/screening/companies-by-industry.aspx?exchange=NASDAQ'\n",
    "res = pd.read_html(url)\n",
    "len(res)"
   ],
   "outputs": [
    {
     "output_type": "execute_result",
     "data": {
      "text/plain": [
       "4"
      ]
     },
     "metadata": {},
     "execution_count": 24
    }
   ],
   "metadata": {
    "ExecuteTime": {
     "end_time": "2018-12-25T19:20:59.748392Z",
     "start_time": "2018-12-25T19:20:58.646206Z"
    }
   }
  },
  {
   "cell_type": "code",
   "execution_count": 25,
   "source": [
    "for r in res:\n",
    "    print(r.info())"
   ],
   "outputs": [
    {
     "output_type": "stream",
     "name": "stdout",
     "text": [
      "<class 'pandas.core.frame.DataFrame'>\n",
      "RangeIndex: 1 entries, 0 to 0\n",
      "Data columns (total 2 columns):\n",
      "0    1 non-null object\n",
      "1    1 non-null object\n",
      "dtypes: object(2)\n",
      "memory usage: 96.0+ bytes\n",
      "None\n",
      "<class 'pandas.core.frame.DataFrame'>\n",
      "RangeIndex: 101 entries, 0 to 100\n",
      "Data columns (total 6 columns):\n",
      "Name          101 non-null object\n",
      "Symbol        51 non-null object\n",
      "Market Cap    47 non-null object\n",
      "Country       51 non-null object\n",
      "IPO Year      28 non-null object\n",
      "Subsector     51 non-null object\n",
      "dtypes: object(6)\n",
      "memory usage: 4.8+ KB\n",
      "None\n",
      "<class 'pandas.core.frame.DataFrame'>\n",
      "RangeIndex: 1 entries, 0 to 0\n",
      "Data columns (total 1 columns):\n",
      "0    1 non-null object\n",
      "dtypes: object(1)\n",
      "memory usage: 88.0+ bytes\n",
      "None\n",
      "<class 'pandas.core.frame.DataFrame'>\n",
      "RangeIndex: 1 entries, 0 to 0\n",
      "Data columns (total 1 columns):\n",
      "0    1 non-null object\n",
      "dtypes: object(1)\n",
      "memory usage: 88.0+ bytes\n",
      "None\n"
     ]
    }
   ],
   "metadata": {
    "ExecuteTime": {
     "end_time": "2018-12-25T19:21:02.385427Z",
     "start_time": "2018-12-25T19:21:02.352487Z"
    },
    "scrolled": true
   }
  },
  {
   "cell_type": "markdown",
   "source": [
    "### Tiingo"
   ],
   "metadata": {}
  },
  {
   "cell_type": "markdown",
   "source": [
    "Requires [signing up](https://api.tiingo.com/) and storing API key in environment"
   ],
   "metadata": {}
  },
  {
   "cell_type": "code",
   "execution_count": 26,
   "source": [
    "df = web.get_data_tiingo('GOOG', api_key=os.getenv('TIINGO_API_KEY'))"
   ],
   "outputs": [],
   "metadata": {
    "ExecuteTime": {
     "end_time": "2018-12-25T19:21:26.396222Z",
     "start_time": "2018-12-25T19:21:26.150734Z"
    }
   }
  },
  {
   "cell_type": "code",
   "execution_count": 27,
   "source": [
    "df.info()"
   ],
   "outputs": [
    {
     "output_type": "stream",
     "name": "stdout",
     "text": [
      "<class 'pandas.core.frame.DataFrame'>\n",
      "MultiIndex: 1244 entries, (GOOG, 2014-03-27 00:00:00) to (GOOG, 2019-03-06 00:00:00)\n",
      "Data columns (total 12 columns):\n",
      "adjClose       1244 non-null float64\n",
      "adjHigh        1244 non-null float64\n",
      "adjLow         1244 non-null float64\n",
      "adjOpen        1244 non-null float64\n",
      "adjVolume      1244 non-null int64\n",
      "close          1244 non-null float64\n",
      "divCash        1244 non-null float64\n",
      "high           1244 non-null float64\n",
      "low            1244 non-null float64\n",
      "open           1244 non-null float64\n",
      "splitFactor    1244 non-null float64\n",
      "volume         1244 non-null int64\n",
      "dtypes: float64(10), int64(2)\n",
      "memory usage: 130.1+ KB\n"
     ]
    }
   ],
   "metadata": {
    "ExecuteTime": {
     "end_time": "2018-12-25T19:21:27.003018Z",
     "start_time": "2018-12-25T19:21:26.986133Z"
    }
   }
  }
 ],
 "metadata": {
  "kernelspec": {
   "name": "python3",
   "display_name": "Python 3.8.11 64-bit ('base': conda)"
  },
  "language_info": {
   "codemirror_mode": {
    "name": "ipython",
    "version": 3
   },
   "file_extension": ".py",
   "mimetype": "text/x-python",
   "name": "python",
   "nbconvert_exporter": "python",
   "pygments_lexer": "ipython3",
   "version": "3.8.11"
  },
  "toc": {
   "base_numbering": 1,
   "nav_menu": {},
   "number_sections": true,
   "sideBar": true,
   "skip_h1_title": true,
   "title_cell": "Table of Contents",
   "title_sidebar": "Contents",
   "toc_cell": false,
   "toc_position": {},
   "toc_section_display": true,
   "toc_window_display": true
  },
  "interpreter": {
   "hash": "ed225720166559e7176d3793db16a2fd8d295f725007103b21ac3099d2a89ee8"
  }
 },
 "nbformat": 4,
 "nbformat_minor": 2
}